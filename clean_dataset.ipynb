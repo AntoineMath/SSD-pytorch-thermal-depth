{
 "cells": [
  {
   "cell_type": "code",
   "execution_count": 4,
   "metadata": {},
   "outputs": [],
   "source": [
    "import numpy as np\n",
    "from sklearn import preprocessing\n",
    "import os"
   ]
  },
  {
   "cell_type": "code",
   "execution_count": 5,
   "metadata": {},
   "outputs": [],
   "source": [
    "folder = '/home/mathurin/prudence/04_12_2019/'"
   ]
  },
  {
   "cell_type": "code",
   "execution_count": 6,
   "metadata": {},
   "outputs": [
    {
     "name": "stdout",
     "output_type": "stream",
     "text": [
      "['Serie10', 'Serie2', 'Serie4', 'Serie11', 'Serie13', 'Serie7', 'Serie1', 'Serie9', 'Serie8', 'Serie12', 'Serie6', 'Serie5', 'Serie16', 'Serie3', 'Serie14', 'Serie15']\n"
     ]
    }
   ],
   "source": [
    "series = os.listdir(folder)\n",
    "print(series)"
   ]
  },
  {
   "cell_type": "code",
   "execution_count": 7,
   "metadata": {},
   "outputs": [],
   "source": [
    "#remove all 3channels files\n",
    "for serie in series:\n",
    "    names = os.listdir(folder + serie + '/Array/')\n",
    "    for name in names:\n",
    "        if '3ch' in name:\n",
    "            os.remove(folder + serie + '/Array/' + name)\n"
   ]
  },
  {
   "cell_type": "code",
   "execution_count": 8,
   "metadata": {},
   "outputs": [],
   "source": [
    "for serie in series:\n",
    "    names = os.listdir(folder + serie + '/Array/')\n",
    "    new_names=[]\n",
    "    for i, name in enumerate(names):\n",
    "        new_names.append('thermal_depth' + name.split('_')[-1])\n",
    "    for i in range (len(new_names)):\n",
    "        os.replace(folder + serie  + '/Array/' + names[i], folder + serie  + '/Array/' + new_names[i])\n"
   ]
  }
 ],
 "metadata": {
  "kernelspec": {
   "display_name": "Python 3",
   "language": "python",
   "name": "python3"
  },
  "language_info": {
   "codemirror_mode": {
    "name": "ipython",
    "version": 3
   },
   "file_extension": ".py",
   "mimetype": "text/x-python",
   "name": "python",
   "nbconvert_exporter": "python",
   "pygments_lexer": "ipython3",
   "version": "3.7.5"
  }
 },
 "nbformat": 4,
 "nbformat_minor": 4
}
