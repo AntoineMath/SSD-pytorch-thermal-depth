{
 "cells": [
  {
   "cell_type": "code",
   "execution_count": 19,
   "metadata": {},
   "outputs": [],
   "source": [
    "import os\n",
    "from PIL import Image\n",
    "import numpy as np"
   ]
  },
  {
   "cell_type": "code",
   "execution_count": 20,
   "metadata": {},
   "outputs": [],
   "source": [
    "dataset = '/home/mathurin/prudence/datasets/dataset_mix3'\n",
    "test_set = '/home/mathurin/prudence/datasets/test_set'"
   ]
  },
  {
   "cell_type": "code",
   "execution_count": 21,
   "metadata": {},
   "outputs": [
    {
     "name": "stdout",
     "output_type": "stream",
     "text": [
      "[]\n"
     ]
    }
   ],
   "source": [
    "train_data = []\n",
    "for root_dir, _, files in os.walk(dataset):\n",
    "    for file in files:\n",
    "        train_data.append('/'.join((os.path.join(root_dir, file).split('/')[-3:])))\n",
    "\n",
    "test_data = []\n",
    "for root_dir, _, files in os.walk(test_set):\n",
    "    for file in files:\n",
    "        test_data.append('/'.join((os.path.join(root_dir, file).split('/')[-3:])))\n",
    "\n",
    "duplicates = [file for file in test_data if file in train_data]\n",
    "\n",
    "print(duplicates)"
   ]
  }
 ],
 "metadata": {
  "kernelspec": {
   "display_name": "Python 3",
   "language": "python",
   "name": "python3"
  },
  "language_info": {
   "codemirror_mode": {
    "name": "ipython",
    "version": 3
   },
   "file_extension": ".py",
   "mimetype": "text/x-python",
   "name": "python",
   "nbconvert_exporter": "python",
   "pygments_lexer": "ipython3",
   "version": "3.7.4"
  }
 },
 "nbformat": 4,
 "nbformat_minor": 2
}
