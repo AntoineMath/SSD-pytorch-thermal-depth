{
 "cells": [
  {
   "cell_type": "code",
   "execution_count": 6,
   "metadata": {},
   "outputs": [],
   "source": [
    "import os\n",
    "import shutil"
   ]
  },
  {
   "cell_type": "code",
   "execution_count": 7,
   "metadata": {},
   "outputs": [],
   "source": [
    "dataset = '/home/mathurin/prudence/datasets/test_set/'"
   ]
  },
  {
   "cell_type": "markdown",
   "metadata": {},
   "source": [
    "## Show number of unmaches between depth and thermal images"
   ]
  },
  {
   "cell_type": "code",
   "execution_count": 8,
   "metadata": {},
   "outputs": [
    {
     "name": "stdout",
     "output_type": "stream",
     "text": [
      "Serie\n",
      "images dans thermique + profondeur  432\n",
      "16\n",
      "['thermal_2020_02_21_14_43_20_103.png', 'thermal_2020_02_21_14_17_34_58.png', 'thermal_2020_02_21_13_41_46_58.png', 'thermal_2020_02_21_10_59_09_92.png', 'thermal_2020_02_21_09_28_33_45.png', 'thermal_2020_02_21_10_59_09_19.png', 'thermal_2020_02_21_10_59_09_96.png', 'thermal_2020_02_20_10_58_11_87.png', 'thermal_2020_02_21_10_59_09_61.png', 'thermal_2020_02_21_14_49_56_19.png', 'thermal_2020_02_21_10_59_09_98.png', 'thermal_2020_02_20_10_58_11_93.png', 'thermal_2020_02_21_14_55_44_33.png', 'thermal_2020_02_21_09_28_33_54.png', 'thermal_2020_02_21_11_06_02_52.png', 'thermal_2020_02_21_14_10_39_40.png']\n"
     ]
    }
   ],
   "source": [
    "for serie in os.listdir(dataset):\n",
    "    thermal_list = os.listdir(os.path.join(dataset, serie, 'Thermique'))\n",
    "    depth_list = os.listdir(os.path.join(dataset, serie, 'Profondeur'))\n",
    "\n",
    "    thermal_to_remove = [img for img in thermal_list if img.replace('thermal', 'depth') not in depth_list]\n",
    "    depth_to_remove = [img for img in depth_list if img.replace('depth', 'thermal') not in thermal_list]\n",
    "    \n",
    "    print(serie)\n",
    "    print('images dans thermique + profondeur ', len(thermal_list) + len(depth_list))\n",
    "    print(len(thermal_to_remove) + len(depth_to_remove))\n",
    "    print(thermal_to_remove)\n"
   ]
  },
  {
   "cell_type": "markdown",
   "metadata": {},
   "source": [
    "## Remove unmached images "
   ]
  },
  {
   "cell_type": "code",
   "execution_count": 9,
   "metadata": {},
   "outputs": [],
   "source": [
    "for serie in os.listdir(dataset):\n",
    "    thermal_list = os.listdir(os.path.join(dataset, serie, 'Thermique'))\n",
    "    depth_list = os.listdir(os.path.join(dataset, serie, 'Profondeur'))\n",
    "\n",
    "    thermal_to_remove = [img for img in thermal_list if img.replace('thermal', 'depth') not in depth_list]\n",
    "    depth_to_remove = [img for img in depth_list if img.replace('depth', 'thermal') not in thermal_list]\n",
    "    \n",
    "    for img in thermal_to_remove:\n",
    "        os.remove(os.path.join(dataset, serie, 'Thermique', img))\n",
    "    for img in depth_to_remove:\n",
    "        os.remove(os.path.join(dataset, serie, 'Profondeur', img))"
   ]
  },
  {
   "cell_type": "markdown",
   "metadata": {},
   "source": [
    "## Remove xml"
   ]
  },
  {
   "cell_type": "code",
   "execution_count": 10,
   "metadata": {},
   "outputs": [],
   "source": [
    "for serie in os.listdir(dataset):\n",
    "    thermal_list = os.listdir(os.path.join(dataset, serie, 'Thermique'))\n",
    "    xml_list = os.listdir(os.path.join(dataset, serie, 'Annotations'))\n",
    "\n",
    "    xml_to_remove = [xml for xml in xml_list if xml.replace('.xml', '.png') not in thermal_list]\n",
    "    \n",
    "    for xml in xml_to_remove:\n",
    "        os.remove(os.path.join(dataset, serie, 'Annotations', xml))"
   ]
  },
  {
   "cell_type": "code",
   "execution_count": null,
   "metadata": {},
   "outputs": [],
   "source": []
  }
 ],
 "metadata": {
  "kernelspec": {
   "display_name": "Python 3",
   "language": "python",
   "name": "python3"
  },
  "language_info": {
   "codemirror_mode": {
    "name": "ipython",
    "version": 3
   },
   "file_extension": ".py",
   "mimetype": "text/x-python",
   "name": "python",
   "nbconvert_exporter": "python",
   "pygments_lexer": "ipython3",
   "version": "3.7.4"
  }
 },
 "nbformat": 4,
 "nbformat_minor": 2
}
