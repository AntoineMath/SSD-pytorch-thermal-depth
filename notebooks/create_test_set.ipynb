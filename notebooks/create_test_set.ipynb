{
 "cells": [
  {
   "cell_type": "markdown",
   "metadata": {},
   "source": [
    "# Create test set"
   ]
  },
  {
   "cell_type": "code",
   "execution_count": 2,
   "metadata": {},
   "outputs": [],
   "source": [
    "import os\n",
    "import xml.etree.ElementTree as ET\n",
    "import random\n",
    "import shutil"
   ]
  },
  {
   "cell_type": "code",
   "execution_count": 5,
   "metadata": {},
   "outputs": [
    {
     "name": "stdout",
     "output_type": "stream",
     "text": [
      "Normal_Antoine_Cuisine_Serie_1\n",
      "Degrade_Soumaya_Chambre_Serie_1\n",
      "Degrade_Imen_Chambre_Serie_1\n",
      "Normal_Antoine_Chambre_Serie_0\n",
      "Degrade_Antoine_Sdb_Serie_0\n",
      "Normal_Antoine_Cuisine_Serie_3\n",
      "Normal_Antoine_Chambre_Serie_1\n",
      "Normal_Antoine_Chambre_Serie_4\n",
      "Degrade_Yannick_Entree_Serie_0\n",
      "Degrade_Soumaya_Entree_Serie_0\n",
      "Degrade_Yannick_Sdb_Serie_1\n",
      "Normal_Antoine_Cuisine_Serie_2\n",
      "Degrade_Imen_Sdb_Serie_0\n",
      "Degrade_Yannick_Chambre_Serie_0\n",
      "Degrade_Yannick_Entree_Serie_1\n",
      "Normal_Soumaya_Salon_Serie_1\n",
      "Degrade_Soumaya_Salon_Serie_0\n",
      "Normal_Antoine_Cuisine_Serie_0\n",
      "Normal_Soumaya_Salon_Serie_0\n",
      "Normal_Antoine_Chambre_Serie_2\n",
      "Degrade_Yannick_Chambre_Serie_1\n",
      "Degrade_Imen_Entree_Serie_0\n",
      "Degrade_Antoine_Entree_Serie_1\n",
      "Degrade_Imen_Entree_Serie_1\n",
      "Degrade_Antoine_Entree_Serie_0\n",
      "Degrade_Soumaya_Chambre_Serie_0\n",
      "Degrade_Yannick_Sdb_Serie_0\n",
      "Normal_Antoine_Chambre_Serie_3\n",
      "Degrade_Soumaya_Entree_Serie_1\n",
      "Degrade_Imen_Chambre_Serie_0\n",
      "Degrade_Antoine_Salon_Serie_0\n",
      "Degrade_Antoine_Chambre_Serie_0\n"
     ]
    }
   ],
   "source": [
    "dataset = '/home/mathurin/prudence/datasets/dataset_mix3/'\n",
    "series = [serie for serie in os.listdir(dataset) if 'Degrade' in serie or 'Normal' in serie]\n",
    "print('\\n'.join(series))"
   ]
  },
  {
   "cell_type": "code",
   "execution_count": 7,
   "metadata": {},
   "outputs": [
    {
     "name": "stdout",
     "output_type": "stream",
     "text": [
      "/home/mathurin/prudence/datasets/dataset_mix3/Normal_Antoine_Chambre_Serie_0/Annotations/thermal_17.xml\n",
      "/home/mathurin/prudence/datasets/dataset_mix3/Normal_Antoine_Chambre_Serie_0/Annotations/thermal_1.xml\n",
      "/home/mathurin/prudence/datasets/dataset_mix3/Normal_Soumaya_Salon_Serie_0/Annotations/thermal_55.xml\n",
      "/home/mathurin/prudence/datasets/dataset_mix3/Normal_Antoine_Chambre_Serie_0/Annotations/thermal_28.xml\n",
      "/home/mathurin/prudence/datasets/dataset_mix3/Normal_Antoine_Cuisine_Serie_2/Annotations/thermal_119.xml\n",
      "/home/mathurin/prudence/datasets/dataset_mix3/Normal_Antoine_Chambre_Serie_0/Annotations/thermal_23.xml\n",
      "/home/mathurin/prudence/datasets/dataset_mix3/Normal_Antoine_Chambre_Serie_0/Annotations/thermal_24.xml\n",
      "/home/mathurin/prudence/datasets/dataset_mix3/Normal_Antoine_Chambre_Serie_0/Annotations/thermal_32.xml\n",
      "/home/mathurin/prudence/datasets/dataset_mix3/Normal_Antoine_Chambre_Serie_2/Annotations/thermal_24.xml\n",
      "/home/mathurin/prudence/datasets/dataset_mix3/Normal_Soumaya_Salon_Serie_0/Annotations/thermal_94.xml\n",
      "/home/mathurin/prudence/datasets/dataset_mix3/Degrade_Imen_Entree_Serie_0/Annotations/thermal_52.xml\n",
      "/home/mathurin/prudence/datasets/dataset_mix3/Normal_Antoine_Cuisine_Serie_0/Annotations/thermal_21.xml\n",
      "/home/mathurin/prudence/datasets/dataset_mix3/Normal_Antoine_Cuisine_Serie_0/Annotations/thermal_96.xml\n",
      "/home/mathurin/prudence/datasets/dataset_mix3/Normal_Antoine_Cuisine_Serie_0/Annotations/thermal_99.xml\n",
      "/home/mathurin/prudence/datasets/dataset_mix3/Degrade_Imen_Entree_Serie_0/Annotations/thermal_18.xml\n",
      "/home/mathurin/prudence/datasets/dataset_mix3/Normal_Antoine_Chambre_Serie_1/Annotations/thermal_12.xml\n",
      "/home/mathurin/prudence/datasets/dataset_mix3/Normal_Soumaya_Salon_Serie_1/Annotations/thermal_39.xml\n",
      "/home/mathurin/prudence/datasets/dataset_mix3/Normal_Antoine_Cuisine_Serie_1/Annotations/thermal_40.xml\n",
      "/home/mathurin/prudence/datasets/dataset_mix3/Normal_Antoine_Cuisine_Serie_0/Annotations/thermal_13.xml\n",
      "/home/mathurin/prudence/datasets/dataset_mix3/Normal_Antoine_Chambre_Serie_1/Annotations/thermal_15.xml\n",
      "/home/mathurin/prudence/datasets/dataset_mix3/Normal_Soumaya_Salon_Serie_1/Annotations/thermal_83.xml\n",
      "/home/mathurin/prudence/datasets/dataset_mix3/Degrade_Imen_Entree_Serie_1/Annotations/thermal_26.xml\n",
      "/home/mathurin/prudence/datasets/dataset_mix3/Normal_Antoine_Chambre_Serie_0/Annotations/thermal_38.xml\n",
      "/home/mathurin/prudence/datasets/dataset_mix3/Degrade_Yannick_Sdb_Serie_0/Annotations/thermal_50.xml\n",
      "/home/mathurin/prudence/datasets/dataset_mix3/Normal_Antoine_Cuisine_Serie_0/Annotations/thermal_101.xml\n",
      "/home/mathurin/prudence/datasets/dataset_mix3/Normal_Soumaya_Salon_Serie_1/Annotations/thermal_42.xml\n",
      "/home/mathurin/prudence/datasets/dataset_mix3/Normal_Antoine_Chambre_Serie_1/Annotations/thermal_17.xml\n",
      "/home/mathurin/prudence/datasets/dataset_mix3/Degrade_Yannick_Sdb_Serie_0/Annotations/thermal_15.xml\n",
      "/home/mathurin/prudence/datasets/dataset_mix3/Normal_Antoine_Cuisine_Serie_2/Annotations/thermal_170.xml\n",
      "/home/mathurin/prudence/datasets/dataset_mix3/Normal_Soumaya_Salon_Serie_0/Annotations/thermal_91.xml\n",
      "/home/mathurin/prudence/datasets/dataset_mix3/Degrade_Imen_Entree_Serie_0/Annotations/thermal_48.xml\n",
      "/home/mathurin/prudence/datasets/dataset_mix3/Normal_Antoine_Chambre_Serie_0/Annotations/thermal_44.xml\n",
      "/home/mathurin/prudence/datasets/dataset_mix3/Normal_Antoine_Cuisine_Serie_3/Annotations/thermal_53.xml\n",
      "/home/mathurin/prudence/datasets/dataset_mix3/Degrade_Imen_Entree_Serie_1/Annotations/thermal_51.xml\n",
      "/home/mathurin/prudence/datasets/dataset_mix3/Normal_Soumaya_Salon_Serie_1/Annotations/thermal_33.xml\n",
      "/home/mathurin/prudence/datasets/dataset_mix3/Normal_Antoine_Cuisine_Serie_0/Annotations/thermal_93.xml\n",
      "/home/mathurin/prudence/datasets/dataset_mix3/Degrade_Imen_Entree_Serie_1/Annotations/thermal_28.xml\n",
      "/home/mathurin/prudence/datasets/dataset_mix3/Degrade_Imen_Entree_Serie_0/Annotations/thermal_50.xml\n",
      "/home/mathurin/prudence/datasets/dataset_mix3/Degrade_Imen_Entree_Serie_1/Annotations/thermal_30.xml\n",
      "/home/mathurin/prudence/datasets/dataset_mix3/Degrade_Yannick_Sdb_Serie_0/Annotations/thermal_24.xml\n",
      "/home/mathurin/prudence/datasets/dataset_mix3/Degrade_Antoine_Salon_Serie_0/Annotations/thermal_73.xml\n",
      "/home/mathurin/prudence/datasets/dataset_mix3/Degrade_Yannick_Entree_Serie_1/Annotations/thermal_51.xml\n",
      "/home/mathurin/prudence/datasets/dataset_mix3/Degrade_Antoine_Entree_Serie_0/Annotations/thermal_23.xml\n",
      "/home/mathurin/prudence/datasets/dataset_mix3/Degrade_Yannick_Chambre_Serie_1/Annotations/thermal_86.xml\n",
      "/home/mathurin/prudence/datasets/dataset_mix3/Degrade_Soumaya_Salon_Serie_0/Annotations/thermal_147.xml\n",
      "/home/mathurin/prudence/datasets/dataset_mix3/Degrade_Antoine_Chambre_Serie_0/Annotations/thermal_36.xml\n",
      "/home/mathurin/prudence/datasets/dataset_mix3/Degrade_Imen_Chambre_Serie_1/Annotations/thermal_47.xml\n",
      "/home/mathurin/prudence/datasets/dataset_mix3/Degrade_Antoine_Sdb_Serie_0/Annotations/thermal_61.xml\n",
      "/home/mathurin/prudence/datasets/dataset_mix3/Degrade_Imen_Chambre_Serie_1/Annotations/thermal_46.xml\n",
      "/home/mathurin/prudence/datasets/dataset_mix3/Degrade_Yannick_Sdb_Serie_1/Annotations/thermal_80.xml\n",
      "/home/mathurin/prudence/datasets/dataset_mix3/Degrade_Soumaya_Salon_Serie_0/Annotations/thermal_148.xml\n",
      "/home/mathurin/prudence/datasets/dataset_mix3/Degrade_Yannick_Chambre_Serie_1/Annotations/thermal_69.xml\n",
      "/home/mathurin/prudence/datasets/dataset_mix3/Degrade_Yannick_Sdb_Serie_1/Annotations/thermal_71.xml\n",
      "/home/mathurin/prudence/datasets/dataset_mix3/Degrade_Yannick_Entree_Serie_1/Annotations/thermal_38.xml\n",
      "/home/mathurin/prudence/datasets/dataset_mix3/Degrade_Imen_Entree_Serie_0/Annotations/thermal_28.xml\n",
      "/home/mathurin/prudence/datasets/dataset_mix3/Degrade_Soumaya_Chambre_Serie_1/Annotations/thermal_53.xml\n",
      "/home/mathurin/prudence/datasets/dataset_mix3/Degrade_Yannick_Chambre_Serie_1/Annotations/thermal_68.xml\n",
      "/home/mathurin/prudence/datasets/dataset_mix3/Degrade_Imen_Entree_Serie_0/Annotations/thermal_39.xml\n",
      "/home/mathurin/prudence/datasets/dataset_mix3/Degrade_Imen_Entree_Serie_0/Annotations/thermal_27.xml\n"
     ]
    }
   ],
   "source": [
    "ratio = 0.2\n",
    "\n",
    "lying_down_images = list()\n",
    "sitting_images = list()\n",
    "standing_images = list()\n",
    "fall_images = list()\n",
    "test_images = list()\n",
    "\n",
    "for serie in series:\n",
    "    for xml_file in os.listdir(os.path.join(dataset, serie, 'Annotations')):\n",
    "        tree = ET.parse(os.path.join(dataset, serie, 'Annotations',  xml_file))\n",
    "        root = tree.getroot()\n",
    "        for object in root.iter('object'):\n",
    "            label = object.find('name').text.lower().strip()\n",
    "        xml_path = os.path.join(dataset, serie, 'Annotations',  xml_file)\n",
    "\n",
    "        if label == 'lying_down':\n",
    "            lying_down_images.append(xml_path)\n",
    "        if label == 'sitting':\n",
    "            sitting_images.append(xml_path)\n",
    "        if label == 'standing':\n",
    "            standing_images.append(xml_path)\n",
    "        if label == 'fall':\n",
    "            fall_images.append(xml_path)\n",
    "\n",
    "random.shuffle(lying_down_images)\n",
    "random.shuffle(sitting_images)\n",
    "random.shuffle(standing_images)\n",
    "random.shuffle(fall_images)\n",
    "\n",
    "test_images = lying_down_images[:int(ratio*len(lying_down_images))] \\\n",
    "              + sitting_images[:int(ratio*len(sitting_images))] \\\n",
    "              + standing_images[:int(ratio*len(standing_images))] \\\n",
    "              + fall_images[:int(ratio*len(fall_images))]\n",
    "\n",
    "len(test_images)\n",
    "print('\\n'.join(test_images))"
   ]
  },
  {
   "cell_type": "code",
   "execution_count": 9,
   "metadata": {},
   "outputs": [
    {
     "ename": "FileNotFoundError",
     "evalue": "[Errno 2] No such file or directory: '/home/mathurin/prudence/datasets/dataset_mix3/Normal_Antoine_Chambre_Serie_0/Annotations/thermal_17.xml'",
     "output_type": "error",
     "traceback": [
      "\u001b[0;31m---------------------------------------------------------------------------\u001b[0m",
      "\u001b[0;31mFileNotFoundError\u001b[0m                         Traceback (most recent call last)",
      "\u001b[0;32m~/anaconda3/lib/python3.7/shutil.py\u001b[0m in \u001b[0;36mmove\u001b[0;34m(src, dst, copy_function)\u001b[0m\n\u001b[1;32m    565\u001b[0m     \u001b[0;32mtry\u001b[0m\u001b[0;34m:\u001b[0m\u001b[0;34m\u001b[0m\u001b[0;34m\u001b[0m\u001b[0m\n\u001b[0;32m--> 566\u001b[0;31m         \u001b[0mos\u001b[0m\u001b[0;34m.\u001b[0m\u001b[0mrename\u001b[0m\u001b[0;34m(\u001b[0m\u001b[0msrc\u001b[0m\u001b[0;34m,\u001b[0m \u001b[0mreal_dst\u001b[0m\u001b[0;34m)\u001b[0m\u001b[0;34m\u001b[0m\u001b[0;34m\u001b[0m\u001b[0m\n\u001b[0m\u001b[1;32m    567\u001b[0m     \u001b[0;32mexcept\u001b[0m \u001b[0mOSError\u001b[0m\u001b[0;34m:\u001b[0m\u001b[0;34m\u001b[0m\u001b[0;34m\u001b[0m\u001b[0m\n",
      "\u001b[0;31mFileNotFoundError\u001b[0m: [Errno 2] No such file or directory: '/home/mathurin/prudence/datasets/dataset_mix3/Normal_Antoine_Chambre_Serie_0/Annotations/thermal_17.xml' -> '/home/mathurin/prudence/datasets/dataset_mix3/test_set/Annotations/Normal_Antoine_Chambre_Serie_0_thermal_17.xml'",
      "\nDuring handling of the above exception, another exception occurred:\n",
      "\u001b[0;31mFileNotFoundError\u001b[0m                         Traceback (most recent call last)",
      "\u001b[0;32m<ipython-input-9-652c97ecff60>\u001b[0m in \u001b[0;36m<module>\u001b[0;34m\u001b[0m\n\u001b[1;32m     21\u001b[0m     \u001b[0mp_name\u001b[0m \u001b[0;34m=\u001b[0m \u001b[0mimg\u001b[0m\u001b[0;34m.\u001b[0m\u001b[0mreplace\u001b[0m\u001b[0;34m(\u001b[0m\u001b[0;34m'Annotations'\u001b[0m\u001b[0;34m,\u001b[0m \u001b[0;34m'Profondeur'\u001b[0m\u001b[0;34m)\u001b[0m\u001b[0;34m.\u001b[0m\u001b[0mreplace\u001b[0m\u001b[0;34m(\u001b[0m\u001b[0;34m'.xml'\u001b[0m\u001b[0;34m,\u001b[0m \u001b[0;34m'.png'\u001b[0m\u001b[0;34m)\u001b[0m\u001b[0;34m.\u001b[0m\u001b[0mreplace\u001b[0m\u001b[0;34m(\u001b[0m\u001b[0;34m'thermal'\u001b[0m\u001b[0;34m,\u001b[0m \u001b[0;34m'depth'\u001b[0m\u001b[0;34m)\u001b[0m\u001b[0;34m\u001b[0m\u001b[0;34m\u001b[0m\u001b[0m\n\u001b[1;32m     22\u001b[0m \u001b[0;34m\u001b[0m\u001b[0m\n\u001b[0;32m---> 23\u001b[0;31m     \u001b[0mshutil\u001b[0m\u001b[0;34m.\u001b[0m\u001b[0mmove\u001b[0m\u001b[0;34m(\u001b[0m\u001b[0mxml_name\u001b[0m\u001b[0;34m,\u001b[0m \u001b[0mos\u001b[0m\u001b[0;34m.\u001b[0m\u001b[0mpath\u001b[0m\u001b[0;34m.\u001b[0m\u001b[0mjoin\u001b[0m\u001b[0;34m(\u001b[0m\u001b[0mnew_a_path\u001b[0m\u001b[0;34m,\u001b[0m \u001b[0mimg_name\u001b[0m\u001b[0;34m)\u001b[0m\u001b[0;34m)\u001b[0m\u001b[0;34m\u001b[0m\u001b[0;34m\u001b[0m\u001b[0m\n\u001b[0m\u001b[1;32m     24\u001b[0m     \u001b[0mshutil\u001b[0m\u001b[0;34m.\u001b[0m\u001b[0mmove\u001b[0m\u001b[0;34m(\u001b[0m\u001b[0mt_name\u001b[0m\u001b[0;34m,\u001b[0m \u001b[0mos\u001b[0m\u001b[0;34m.\u001b[0m\u001b[0mpath\u001b[0m\u001b[0;34m.\u001b[0m\u001b[0mjoin\u001b[0m\u001b[0;34m(\u001b[0m\u001b[0mnew_t_path\u001b[0m\u001b[0;34m,\u001b[0m \u001b[0mimg_name\u001b[0m\u001b[0;34m.\u001b[0m\u001b[0mreplace\u001b[0m\u001b[0;34m(\u001b[0m\u001b[0;34m'.xml'\u001b[0m\u001b[0;34m,\u001b[0m \u001b[0;34m'.png'\u001b[0m\u001b[0;34m)\u001b[0m\u001b[0;34m)\u001b[0m\u001b[0;34m)\u001b[0m\u001b[0;34m\u001b[0m\u001b[0;34m\u001b[0m\u001b[0m\n\u001b[1;32m     25\u001b[0m     \u001b[0mshutil\u001b[0m\u001b[0;34m.\u001b[0m\u001b[0mmove\u001b[0m\u001b[0;34m(\u001b[0m\u001b[0mt8bit_name\u001b[0m\u001b[0;34m,\u001b[0m \u001b[0mos\u001b[0m\u001b[0;34m.\u001b[0m\u001b[0mpath\u001b[0m\u001b[0;34m.\u001b[0m\u001b[0mjoin\u001b[0m\u001b[0;34m(\u001b[0m\u001b[0mnew_t8bit_path\u001b[0m\u001b[0;34m,\u001b[0m \u001b[0mimg_name\u001b[0m\u001b[0;34m.\u001b[0m\u001b[0mreplace\u001b[0m\u001b[0;34m(\u001b[0m\u001b[0;34m'.xml'\u001b[0m\u001b[0;34m,\u001b[0m \u001b[0;34m'.png'\u001b[0m\u001b[0;34m)\u001b[0m\u001b[0;34m)\u001b[0m\u001b[0;34m)\u001b[0m\u001b[0;34m\u001b[0m\u001b[0;34m\u001b[0m\u001b[0m\n",
      "\u001b[0;32m~/anaconda3/lib/python3.7/shutil.py\u001b[0m in \u001b[0;36mmove\u001b[0;34m(src, dst, copy_function)\u001b[0m\n\u001b[1;32m    578\u001b[0m             \u001b[0mrmtree\u001b[0m\u001b[0;34m(\u001b[0m\u001b[0msrc\u001b[0m\u001b[0;34m)\u001b[0m\u001b[0;34m\u001b[0m\u001b[0;34m\u001b[0m\u001b[0m\n\u001b[1;32m    579\u001b[0m         \u001b[0;32melse\u001b[0m\u001b[0;34m:\u001b[0m\u001b[0;34m\u001b[0m\u001b[0;34m\u001b[0m\u001b[0m\n\u001b[0;32m--> 580\u001b[0;31m             \u001b[0mcopy_function\u001b[0m\u001b[0;34m(\u001b[0m\u001b[0msrc\u001b[0m\u001b[0;34m,\u001b[0m \u001b[0mreal_dst\u001b[0m\u001b[0;34m)\u001b[0m\u001b[0;34m\u001b[0m\u001b[0;34m\u001b[0m\u001b[0m\n\u001b[0m\u001b[1;32m    581\u001b[0m             \u001b[0mos\u001b[0m\u001b[0;34m.\u001b[0m\u001b[0munlink\u001b[0m\u001b[0;34m(\u001b[0m\u001b[0msrc\u001b[0m\u001b[0;34m)\u001b[0m\u001b[0;34m\u001b[0m\u001b[0;34m\u001b[0m\u001b[0m\n\u001b[1;32m    582\u001b[0m     \u001b[0;32mreturn\u001b[0m \u001b[0mreal_dst\u001b[0m\u001b[0;34m\u001b[0m\u001b[0;34m\u001b[0m\u001b[0m\n",
      "\u001b[0;32m~/anaconda3/lib/python3.7/shutil.py\u001b[0m in \u001b[0;36mcopy2\u001b[0;34m(src, dst, follow_symlinks)\u001b[0m\n\u001b[1;32m    264\u001b[0m     \u001b[0;32mif\u001b[0m \u001b[0mos\u001b[0m\u001b[0;34m.\u001b[0m\u001b[0mpath\u001b[0m\u001b[0;34m.\u001b[0m\u001b[0misdir\u001b[0m\u001b[0;34m(\u001b[0m\u001b[0mdst\u001b[0m\u001b[0;34m)\u001b[0m\u001b[0;34m:\u001b[0m\u001b[0;34m\u001b[0m\u001b[0;34m\u001b[0m\u001b[0m\n\u001b[1;32m    265\u001b[0m         \u001b[0mdst\u001b[0m \u001b[0;34m=\u001b[0m \u001b[0mos\u001b[0m\u001b[0;34m.\u001b[0m\u001b[0mpath\u001b[0m\u001b[0;34m.\u001b[0m\u001b[0mjoin\u001b[0m\u001b[0;34m(\u001b[0m\u001b[0mdst\u001b[0m\u001b[0;34m,\u001b[0m \u001b[0mos\u001b[0m\u001b[0;34m.\u001b[0m\u001b[0mpath\u001b[0m\u001b[0;34m.\u001b[0m\u001b[0mbasename\u001b[0m\u001b[0;34m(\u001b[0m\u001b[0msrc\u001b[0m\u001b[0;34m)\u001b[0m\u001b[0;34m)\u001b[0m\u001b[0;34m\u001b[0m\u001b[0;34m\u001b[0m\u001b[0m\n\u001b[0;32m--> 266\u001b[0;31m     \u001b[0mcopyfile\u001b[0m\u001b[0;34m(\u001b[0m\u001b[0msrc\u001b[0m\u001b[0;34m,\u001b[0m \u001b[0mdst\u001b[0m\u001b[0;34m,\u001b[0m \u001b[0mfollow_symlinks\u001b[0m\u001b[0;34m=\u001b[0m\u001b[0mfollow_symlinks\u001b[0m\u001b[0;34m)\u001b[0m\u001b[0;34m\u001b[0m\u001b[0;34m\u001b[0m\u001b[0m\n\u001b[0m\u001b[1;32m    267\u001b[0m     \u001b[0mcopystat\u001b[0m\u001b[0;34m(\u001b[0m\u001b[0msrc\u001b[0m\u001b[0;34m,\u001b[0m \u001b[0mdst\u001b[0m\u001b[0;34m,\u001b[0m \u001b[0mfollow_symlinks\u001b[0m\u001b[0;34m=\u001b[0m\u001b[0mfollow_symlinks\u001b[0m\u001b[0;34m)\u001b[0m\u001b[0;34m\u001b[0m\u001b[0;34m\u001b[0m\u001b[0m\n\u001b[1;32m    268\u001b[0m     \u001b[0;32mreturn\u001b[0m \u001b[0mdst\u001b[0m\u001b[0;34m\u001b[0m\u001b[0;34m\u001b[0m\u001b[0m\n",
      "\u001b[0;32m~/anaconda3/lib/python3.7/shutil.py\u001b[0m in \u001b[0;36mcopyfile\u001b[0;34m(src, dst, follow_symlinks)\u001b[0m\n\u001b[1;32m    118\u001b[0m         \u001b[0mos\u001b[0m\u001b[0;34m.\u001b[0m\u001b[0msymlink\u001b[0m\u001b[0;34m(\u001b[0m\u001b[0mos\u001b[0m\u001b[0;34m.\u001b[0m\u001b[0mreadlink\u001b[0m\u001b[0;34m(\u001b[0m\u001b[0msrc\u001b[0m\u001b[0;34m)\u001b[0m\u001b[0;34m,\u001b[0m \u001b[0mdst\u001b[0m\u001b[0;34m)\u001b[0m\u001b[0;34m\u001b[0m\u001b[0;34m\u001b[0m\u001b[0m\n\u001b[1;32m    119\u001b[0m     \u001b[0;32melse\u001b[0m\u001b[0;34m:\u001b[0m\u001b[0;34m\u001b[0m\u001b[0;34m\u001b[0m\u001b[0m\n\u001b[0;32m--> 120\u001b[0;31m         \u001b[0;32mwith\u001b[0m \u001b[0mopen\u001b[0m\u001b[0;34m(\u001b[0m\u001b[0msrc\u001b[0m\u001b[0;34m,\u001b[0m \u001b[0;34m'rb'\u001b[0m\u001b[0;34m)\u001b[0m \u001b[0;32mas\u001b[0m \u001b[0mfsrc\u001b[0m\u001b[0;34m:\u001b[0m\u001b[0;34m\u001b[0m\u001b[0;34m\u001b[0m\u001b[0m\n\u001b[0m\u001b[1;32m    121\u001b[0m             \u001b[0;32mwith\u001b[0m \u001b[0mopen\u001b[0m\u001b[0;34m(\u001b[0m\u001b[0mdst\u001b[0m\u001b[0;34m,\u001b[0m \u001b[0;34m'wb'\u001b[0m\u001b[0;34m)\u001b[0m \u001b[0;32mas\u001b[0m \u001b[0mfdst\u001b[0m\u001b[0;34m:\u001b[0m\u001b[0;34m\u001b[0m\u001b[0;34m\u001b[0m\u001b[0m\n\u001b[1;32m    122\u001b[0m                 \u001b[0mcopyfileobj\u001b[0m\u001b[0;34m(\u001b[0m\u001b[0mfsrc\u001b[0m\u001b[0;34m,\u001b[0m \u001b[0mfdst\u001b[0m\u001b[0;34m)\u001b[0m\u001b[0;34m\u001b[0m\u001b[0;34m\u001b[0m\u001b[0m\n",
      "\u001b[0;31mFileNotFoundError\u001b[0m: [Errno 2] No such file or directory: '/home/mathurin/prudence/datasets/dataset_mix3/Normal_Antoine_Chambre_Serie_0/Annotations/thermal_17.xml'"
     ]
    }
   ],
   "source": [
    "new_a_path = os.path.join(dataset, 'test_set', 'Annotations')\n",
    "new_t_path = os.path.join(dataset, 'test_set', 'Thermique')\n",
    "new_t8bit_path = os.path.join(dataset, 'test_set', 'Thermique_8bit')\n",
    "new_p_path = os.path.join(dataset, 'test_set', 'Profondeur')\n",
    "\n",
    "if not os.path.exists(new_a_path):\n",
    "    os.makedirs(new_a_path)\n",
    "if not os.path.exists(new_t_path):\n",
    "    os.makedirs(new_t_path)\n",
    "if not os.path.exists(new_t8bit_path):\n",
    "    os.makedirs(new_t8bit_path)\n",
    "if not os.path.exists(new_p_path):\n",
    "    os.makedirs(new_p_path)\n",
    "\n",
    "for img in test_images:\n",
    "    img_name = img.split('/')[-3] + '_' + img.split('/')[-1]\n",
    "\n",
    "    xml_name = img\n",
    "    t_name = img.replace('Annotations', 'Thermique').replace('.xml', '.png')\n",
    "    t8bit_name = img.replace('Annotations', 'Thermique_8bit').replace('.xml', '.png')\n",
    "    p_name = img.replace('Annotations', 'Profondeur').replace('.xml', '.png').replace('thermal', 'depth')\n",
    "    \n",
    "    shutil.move(xml_name, os.path.join(new_a_path, img_name))\n",
    "    shutil.move(t_name, os.path.join(new_t_path, img_name.replace('.xml', '.png')))\n",
    "    shutil.move(t8bit_name, os.path.join(new_t8bit_path, img_name.replace('.xml', '.png')))\n",
    "    try:\n",
    "        shutil.move(p_name, os.path.join(new_p_path, img_name.replace('.xml', '.png').replace('thermal', 'depth')))\n",
    "    except:\n",
    "        print('noooooooo')\n",
    "        pass"
   ]
  },
  {
   "cell_type": "code",
   "execution_count": null,
   "metadata": {},
   "outputs": [],
   "source": []
  }
 ],
 "metadata": {
  "kernelspec": {
   "display_name": "Python 3",
   "language": "python",
   "name": "python3"
  },
  "language_info": {
   "codemirror_mode": {
    "name": "ipython",
    "version": 3
   },
   "file_extension": ".py",
   "mimetype": "text/x-python",
   "name": "python",
   "nbconvert_exporter": "python",
   "pygments_lexer": "ipython3",
   "version": "3.7.4"
  }
 },
 "nbformat": 4,
 "nbformat_minor": 2
}
