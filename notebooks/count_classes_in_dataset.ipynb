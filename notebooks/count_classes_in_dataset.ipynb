{
 "cells": [
  {
   "cell_type": "markdown",
   "metadata": {},
   "source": [
    "# Count classes in dataset"
   ]
  },
  {
   "cell_type": "code",
   "execution_count": 1,
   "metadata": {},
   "outputs": [],
   "source": [
    "import os\n",
    "import xml.etree.ElementTree as ET"
   ]
  },
  {
   "cell_type": "code",
   "execution_count": 4,
   "metadata": {},
   "outputs": [],
   "source": [
    "dataset = '/home/mathurin/prudence/datasets/test_set/'"
   ]
  },
  {
   "cell_type": "code",
   "execution_count": 5,
   "metadata": {
    "scrolled": false
   },
   "outputs": [
    {
     "name": "stdout",
     "output_type": "stream",
     "text": [
      "{'lying_down': 34, 'standing': 62, 'sitting': 42, 'fall': 86}\n",
      "Total =  224\n"
     ]
    }
   ],
   "source": [
    "labels = {'lying_down': 0,\n",
    "          'standing': 0,\n",
    "          'sitting': 0,\n",
    "          'fall': 0}\n",
    "\n",
    "for serie in os.listdir(dataset):\n",
    "    if os.path.isdir(os.path.join(dataset, serie)):\n",
    "        for xml_file in os.listdir(os.path.join(dataset, serie, 'Annotations')):\n",
    "            tree = ET.parse(os.path.join(dataset, serie, 'Annotations',  xml_file))\n",
    "            root = tree.getroot()\n",
    "            for object in root.iter('object'):\n",
    "                label = object.find('name').text.lower().strip()\n",
    "                labels[label] += 1 \n",
    "\n",
    "print(labels)\n",
    "print('Total = ', sum(list(labels.values())))"
   ]
  },
  {
   "cell_type": "code",
   "execution_count": null,
   "metadata": {},
   "outputs": [],
   "source": []
  }
 ],
 "metadata": {
  "kernelspec": {
   "display_name": "Python 3",
   "language": "python",
   "name": "python3"
  },
  "language_info": {
   "codemirror_mode": {
    "name": "ipython",
    "version": 3
   },
   "file_extension": ".py",
   "mimetype": "text/x-python",
   "name": "python",
   "nbconvert_exporter": "python",
   "pygments_lexer": "ipython3",
   "version": "3.7.4"
  }
 },
 "nbformat": 4,
 "nbformat_minor": 2
}
