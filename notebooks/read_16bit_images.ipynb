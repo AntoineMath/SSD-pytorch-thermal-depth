{
 "cells": [
  {
   "cell_type": "code",
   "execution_count": 38,
   "metadata": {},
   "outputs": [],
   "source": [
    "from PIL import Image\n",
    "import cv2\n",
    "import numpy as np\n",
    "import torch\n",
    "import torchvision.transforms.functional as FT"
   ]
  },
  {
   "cell_type": "code",
   "execution_count": 39,
   "metadata": {},
   "outputs": [],
   "source": [
    "img_path = '/home/mathurin/prudence/data_no_fusion/Serie_6/Thermique/thermal3.png'"
   ]
  },
  {
   "cell_type": "markdown",
   "metadata": {},
   "source": [
    "## PILLOW"
   ]
  },
  {
   "cell_type": "code",
   "execution_count": 40,
   "metadata": {},
   "outputs": [
    {
     "name": "stdout",
     "output_type": "stream",
     "text": [
      "I\n"
     ]
    }
   ],
   "source": [
    "image = Image.open(img_path, mode='r')\n",
    "print(image.mode)"
   ]
  },
  {
   "cell_type": "code",
   "execution_count": 46,
   "metadata": {},
   "outputs": [
    {
     "name": "stdout",
     "output_type": "stream",
     "text": [
      "tensor(196.8579)\n",
      "tensor(29148.3340)\n"
     ]
    }
   ],
   "source": [
    "#converting to tensor\n",
    "image_tensor = FT.to_tensor(image).type(torch.FloatTensor)\n",
    "print(image_tensor.std())\n",
    "print(image_tensor.mean())"
   ]
  },
  {
   "cell_type": "code",
   "execution_count": 24,
   "metadata": {},
   "outputs": [
    {
     "name": "stdout",
     "output_type": "stream",
     "text": [
      "uint16\n",
      "[[29106 29104 29108 ... 29161 29163 29176]\n",
      " [29104 29074 29106 ... 29153 29165 29180]\n",
      " [29085 29089 29098 ... 29174 29165 29190]\n",
      " ...\n",
      " [29599 29284 29127 ... 29110 29096 29115]\n",
      " [30100 29392 29148 ... 29098 29110 29113]\n",
      " [30161 29392 29130 ... 29117 29138 29134]]\n"
     ]
    }
   ],
   "source": [
    "# converting to numpy array\n",
    "image_array = np.array(image).astype('uint16')\n",
    "print(image_array.dtype)\n",
    "print(image_array)"
   ]
  },
  {
   "cell_type": "code",
   "execution_count": 25,
   "metadata": {},
   "outputs": [
    {
     "name": "stdout",
     "output_type": "stream",
     "text": [
      "I;16\n"
     ]
    }
   ],
   "source": [
    "# back to PIL image\n",
    "image_2 = Image.fromarray(image_array)\n",
    "print(image_2.mode)"
   ]
  },
  {
   "cell_type": "markdown",
   "metadata": {},
   "source": [
    "## OPENCV"
   ]
  },
  {
   "cell_type": "code",
   "execution_count": 31,
   "metadata": {},
   "outputs": [
    {
     "name": "stdout",
     "output_type": "stream",
     "text": [
      "uint16\n",
      "[[29106 29104 29108 ... 29161 29163 29176]\n",
      " [29104 29074 29106 ... 29153 29165 29180]\n",
      " [29085 29089 29098 ... 29174 29165 29190]\n",
      " ...\n",
      " [29599 29284 29127 ... 29110 29096 29115]\n",
      " [30100 29392 29148 ... 29098 29110 29113]\n",
      " [30161 29392 29130 ... 29117 29138 29134]]\n"
     ]
    }
   ],
   "source": [
    "image = cv2.imread(img_path, -1)\n",
    "print(image.dtype)\n",
    "print(image)"
   ]
  },
  {
   "cell_type": "code",
   "execution_count": null,
   "metadata": {},
   "outputs": [],
   "source": []
  }
 ],
 "metadata": {
  "kernelspec": {
   "display_name": "Python 3",
   "language": "python",
   "name": "python3"
  },
  "language_info": {
   "codemirror_mode": {
    "name": "ipython",
    "version": 3
   },
   "file_extension": ".py",
   "mimetype": "text/x-python",
   "name": "python",
   "nbconvert_exporter": "python",
   "pygments_lexer": "ipython3",
   "version": "3.7.5"
  }
 },
 "nbformat": 4,
 "nbformat_minor": 2
}
