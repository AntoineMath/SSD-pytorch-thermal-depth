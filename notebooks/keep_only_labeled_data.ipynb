{
 "cells": [
  {
   "cell_type": "code",
   "execution_count": 5,
   "metadata": {},
   "outputs": [],
   "source": [
    "import numpy as np\n",
    "from sklearn import preprocessing\n",
    "import os"
   ]
  },
  {
   "cell_type": "code",
   "execution_count": 6,
   "metadata": {},
   "outputs": [],
   "source": [
    "folder = '/home/mathurin/prudence/datasets/dataset_mix3/'"
   ]
  },
  {
   "cell_type": "code",
   "execution_count": 7,
   "metadata": {},
   "outputs": [
    {
     "name": "stdout",
     "output_type": "stream",
     "text": [
      "Normal_Antoine_Cuisine_Serie_1\n",
      "Degrade_Soumaya_Chambre_Serie_1\n",
      "Degrade_Imen_Chambre_Serie_1\n",
      "Normal_Antoine_Chambre_Serie_0\n",
      "Degrade_Antoine_Sdb_Serie_0\n",
      "Normal_Antoine_Cuisine_Serie_3\n",
      "Normal_Antoine_Chambre_Serie_1\n",
      "Normal_Antoine_Chambre_Serie_4\n",
      "Degrade_Yannick_Entree_Serie_0\n",
      "Degrade_Soumaya_Entree_Serie_0\n",
      "Degrade_Yannick_Sdb_Serie_1\n",
      "Normal_Antoine_Cuisine_Serie_2\n",
      "Degrade_Imen_Sdb_Serie_0\n",
      "Degrade_Yannick_Chambre_Serie_0\n",
      "Degrade_Yannick_Entree_Serie_1\n",
      "Normal_Soumaya_Salon_Serie_1\n",
      "Degrade_Soumaya_Salon_Serie_0\n",
      "Normal_Antoine_Cuisine_Serie_0\n",
      "Normal_Soumaya_Salon_Serie_0\n",
      "Normal_Antoine_Chambre_Serie_2\n",
      "Degrade_Yannick_Chambre_Serie_1\n",
      "Degrade_Imen_Entree_Serie_0\n",
      "Degrade_Antoine_Entree_Serie_1\n",
      "Degrade_Imen_Entree_Serie_1\n",
      "Degrade_Antoine_Entree_Serie_0\n",
      "Degrade_Soumaya_Chambre_Serie_0\n",
      "Degrade_Yannick_Sdb_Serie_0\n",
      "Normal_Antoine_Chambre_Serie_3\n",
      "Degrade_Soumaya_Entree_Serie_1\n",
      "Degrade_Imen_Chambre_Serie_0\n",
      "Degrade_Antoine_Salon_Serie_0\n",
      "Degrade_Antoine_Chambre_Serie_0\n"
     ]
    }
   ],
   "source": [
    "series = os.listdir(folder)\n",
    "print('\\n'.join(series))"
   ]
  },
  {
   "cell_type": "code",
   "execution_count": 8,
   "metadata": {},
   "outputs": [
    {
     "name": "stdout",
     "output_type": "stream",
     "text": [
      "Normal_Antoine_Cuisine_Serie_1 10 10 10 10\n",
      "Degrade_Soumaya_Chambre_Serie_1 6 6 6 6\n",
      "Degrade_Imen_Chambre_Serie_1 6 6 6 6\n",
      "Normal_Antoine_Chambre_Serie_0 20 20 20 20\n",
      "Degrade_Antoine_Sdb_Serie_0 7 7 7 7\n",
      "Normal_Antoine_Cuisine_Serie_3 3 3 3 3\n",
      "Normal_Antoine_Chambre_Serie_1 10 10 10 10\n",
      "Normal_Antoine_Chambre_Serie_4 2 2 2 2\n",
      "Degrade_Yannick_Entree_Serie_0 4 4 4 4\n",
      "Degrade_Soumaya_Entree_Serie_0 2 2 2 2\n",
      "Degrade_Yannick_Sdb_Serie_1 8 8 8 8\n",
      "Normal_Antoine_Cuisine_Serie_2 5 5 5 5\n",
      "Degrade_Imen_Sdb_Serie_0 6 6 6 6\n",
      "Degrade_Yannick_Chambre_Serie_0 18 18 18 18\n",
      "Degrade_Yannick_Entree_Serie_1 2 2 2 2\n",
      "Normal_Soumaya_Salon_Serie_1 13 13 13 13\n",
      "Degrade_Soumaya_Salon_Serie_0 4 4 4 4\n",
      "Normal_Antoine_Cuisine_Serie_0 34 34 34 34\n",
      "Normal_Soumaya_Salon_Serie_0 29 29 29 29\n",
      "Normal_Antoine_Chambre_Serie_2 14 14 14 14\n",
      "Degrade_Yannick_Chambre_Serie_1 9 9 9 9\n",
      "Degrade_Imen_Entree_Serie_0 23 23 23 23\n",
      "Degrade_Antoine_Entree_Serie_1 2 2 2 2\n",
      "Degrade_Imen_Entree_Serie_1 14 14 14 14\n",
      "Degrade_Antoine_Entree_Serie_0 9 9 9 9\n",
      "Degrade_Soumaya_Chambre_Serie_0 2 2 2 2\n",
      "Degrade_Yannick_Sdb_Serie_0 17 17 17 17\n",
      "Normal_Antoine_Chambre_Serie_3 2 2 2 2\n",
      "Degrade_Soumaya_Entree_Serie_1 4 4 4 4\n",
      "Degrade_Imen_Chambre_Serie_0 3 3 3 3\n",
      "Degrade_Antoine_Salon_Serie_0 4 4 4 4\n",
      "Degrade_Antoine_Chambre_Serie_0 6 6 6 6\n"
     ]
    }
   ],
   "source": [
    "for serie in series:\n",
    "    annotations = os.listdir(os.path.join(folder, serie, 'Annotations'))\n",
    "    thermal = os.listdir(os.path.join(folder, serie, 'Thermique'))\n",
    "    depth = os.listdir(os.path.join(folder, serie, 'Profondeur'))\n",
    "    RGB = os.listdir(os.path.join(folder, serie, 'Couleur'))\n",
    "    for t in thermal:\n",
    "        if t.replace('.png', '.xml') not in annotations:\n",
    "            os.remove(os.path.join(folder, serie, 'Thermique', t))\n",
    "    for d in depth:\n",
    "        if d.replace('.png', '.xml').replace('depth', 'thermal') not in annotations:\n",
    "            os.remove(os.path.join(folder, serie, 'Profondeur', d))\n",
    "    for c in RGB:\n",
    "        if c.replace('.png', '.xml').replace('RGB', 'thermal') not in annotations:\n",
    "            os.remove(os.path.join(folder, serie, 'Couleur', c))\n",
    "            \n",
    "    thermal = os.listdir(os.path.join(folder, serie, 'Thermique'))\n",
    "    depth = os.listdir(os.path.join(folder, serie, 'Profondeur'))\n",
    "    RGB = os.listdir(os.path.join(folder, serie, 'Couleur'))\n",
    "    \n",
    "    print(serie, len(annotations), len(thermal), len(depth), len(RGB))"
   ]
  },
  {
   "cell_type": "code",
   "execution_count": null,
   "metadata": {},
   "outputs": [],
   "source": []
  }
 ],
 "metadata": {
  "kernelspec": {
   "display_name": "Python 3",
   "language": "python",
   "name": "python3"
  },
  "language_info": {
   "codemirror_mode": {
    "name": "ipython",
    "version": 3
   },
   "file_extension": ".py",
   "mimetype": "text/x-python",
   "name": "python",
   "nbconvert_exporter": "python",
   "pygments_lexer": "ipython3",
   "version": "3.7.4"
  }
 },
 "nbformat": 4,
 "nbformat_minor": 4
}
