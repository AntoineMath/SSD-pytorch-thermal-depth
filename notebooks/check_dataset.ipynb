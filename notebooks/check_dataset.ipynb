{
 "cells": [
  {
   "cell_type": "code",
   "execution_count": 1,
   "metadata": {},
   "outputs": [],
   "source": [
    "from pathlib import Path\n",
    "import glob\n",
    "import os"
   ]
  },
  {
   "cell_type": "code",
   "execution_count": 2,
   "metadata": {},
   "outputs": [],
   "source": [
    "folder = '../datasets/dataset_mix2_correction/'\n"
   ]
  },
  {
   "cell_type": "markdown",
   "metadata": {},
   "source": [
    "## Check if all folders exits in series\n",
    "- **Check eventual misspellings and manualy correct it**"
   ]
  },
  {
   "cell_type": "code",
   "execution_count": 3,
   "metadata": {},
   "outputs": [],
   "source": [
    "for serie in os.listdir(folder):\n",
    "    if os.path.isdir(os.path.join(folder, serie)):\n",
    "        sub_folders = [sub for sub in os.listdir(os.path.join(folder, serie))]\n",
    "        base_folders = {'Annotations', 'Annotations_depth', 'Thermique', 'Profondeur'}\n",
    "        folders_8bit = {'Thermique_8bit', 'Profondeur_8bit', 'Couleur'}\n",
    "\n",
    "        for sub in sub_folders:\n",
    "            if sub not in base_folders and sub not in folders_8bit:\n",
    "                print(f\"misspelling in {serie}: '{sub}'\")"
   ]
  },
  {
   "cell_type": "markdown",
   "metadata": {},
   "source": [
    "- **check missing folders then run correction if needed**"
   ]
  },
  {
   "cell_type": "code",
   "execution_count": 4,
   "metadata": {},
   "outputs": [],
   "source": [
    "for serie in os.listdir(folder):\n",
    "    if os.path.isdir(os.path.join(folder, serie)):\n",
    "        sub_folders = [sub for sub in os.listdir(os.path.join(folder, serie))]\n",
    "        base_folders = {'Annotations', 'Annotations_depth', 'Thermique', 'Profondeur'}\n",
    "        folders_8bit = {'Thermique_8bit', 'Profondeur_8bit', 'Couleur'}\n",
    "        \n",
    "        for bf in base_folders:\n",
    "            if bf not in sub_folders:\n",
    "                print(f\"missing {bf} in {serie}\")"
   ]
  },
  {
   "cell_type": "markdown",
   "metadata": {},
   "source": [
    "### Correction "
   ]
  },
  {
   "cell_type": "code",
   "execution_count": 5,
   "metadata": {},
   "outputs": [],
   "source": [
    "for serie in os.listdir(folder):\n",
    "    if os.path.isdir(os.path.join(folder, serie)):\n",
    "        sub_folders = [sub for sub in os.listdir(os.path.join(folder, serie))]\n",
    "        base_folders = {'Annotations', 'Annotations_depth', 'Thermique', 'Profondeur'}\n",
    "\n",
    "        for bf in base_folders:\n",
    "            if bf not in sub_folders:\n",
    "                os.mkdir(os.path.join(folder, serie, bf))\n",
    "                print(f'{bf} created in {serie}')"
   ]
  },
  {
   "cell_type": "markdown",
   "metadata": {},
   "source": [
    "## Check if all thermal xml correspond to a thermal image\n",
    "- **Be careful, maybe you forgot to label a serie**"
   ]
  },
  {
   "cell_type": "code",
   "execution_count": 6,
   "metadata": {},
   "outputs": [
    {
     "name": "stdout",
     "output_type": "stream",
     "text": [
      "DONE\n"
     ]
    }
   ],
   "source": [
    "for serie in os.listdir(folder):\n",
    "    if os.path.isdir(os.path.join(folder, serie)):\n",
    "        thermal_xml = [xml for xml in os.listdir(os.path.join(folder, serie, 'Annotations'))]\n",
    "        thermal_img = [img for img in os.listdir(os.path.join(folder, serie, 'Thermique'))] \n",
    "\n",
    "    unmached_thermal_xml = [xml for xml in thermal_xml if xml.replace('.xml', '.png') not in thermal_img]\n",
    "    if len(unmached_thermal_xml) > 0:\n",
    "        print('\\nSerie: \\n' + serie)\n",
    "        print('\\n'.join(unmached_thermal_xml))\n",
    "print('DONE')"
   ]
  },
  {
   "cell_type": "markdown",
   "metadata": {},
   "source": [
    "### Correction\n",
    "- **Manually move missing image in the respective Thermal folder**"
   ]
  },
  {
   "cell_type": "markdown",
   "metadata": {},
   "source": [
    "## Check if useless thermal images\n",
    "**Be careful, maybe you forgot to annotate a serie**"
   ]
  },
  {
   "cell_type": "code",
   "execution_count": 9,
   "metadata": {},
   "outputs": [
    {
     "name": "stdout",
     "output_type": "stream",
     "text": [
      "DONE\n"
     ]
    }
   ],
   "source": [
    "for serie in os.listdir(folder):\n",
    "    if os.path.isdir(os.path.join(folder, serie)):\n",
    "        thermal_xml = [xml for xml in os.listdir(os.path.join(folder, serie, 'Annotations'))]\n",
    "        thermal_img = [img for img in os.listdir(os.path.join(folder, serie, 'Thermique'))] \n",
    "\n",
    "    useless_thermal = [os.path.join(folder, serie, 'Thermique', img) for img in thermal_img if img.replace('.png', '.xml') not in thermal_xml]\n",
    "    if len(useless_thermal) > 0:\n",
    "        print(f'\\n{serie} : {len(useless_thermal)}/{len(thermal_img)} images to remove\\n')\n",
    "        print('\\n'.join([img.split('/')[-1] for img in useless_thermal]))\n",
    "print('DONE')"
   ]
  },
  {
   "cell_type": "markdown",
   "metadata": {},
   "source": [
    "### Correction\n",
    "**Be careful, maybe you forgot to annotate a serie**"
   ]
  },
  {
   "cell_type": "code",
   "execution_count": 10,
   "metadata": {},
   "outputs": [
    {
     "name": "stdout",
     "output_type": "stream",
     "text": [
      "DONE\n"
     ]
    }
   ],
   "source": [
    "for serie in os.listdir(folder):\n",
    "    if os.path.isdir(os.path.join(folder, serie)):\n",
    "        thermal_xml = [xml for xml in os.listdir(os.path.join(folder, serie, 'Annotations'))]\n",
    "        thermal_img = [img for img in os.listdir(os.path.join(folder, serie, 'Thermique'))] \n",
    "\n",
    "    useless_thermal = [os.path.join(folder, serie, 'Thermique', img) for img in thermal_img if img.replace('.png', '.xml') not in thermal_xml]\n",
    "    for img in useless_thermal:\n",
    "        os.remove(img)\n",
    "print('DONE')"
   ]
  },
  {
   "cell_type": "markdown",
   "metadata": {},
   "source": [
    "# **If all errors have been corrected, the thermal images and labels are clean**, now we can check depth ones."
   ]
  },
  {
   "cell_type": "markdown",
   "metadata": {},
   "source": [
    "## Check if each thermal images corresponds to a depth image"
   ]
  },
  {
   "cell_type": "code",
   "execution_count": 15,
   "metadata": {},
   "outputs": [],
   "source": [
    "for serie in os.listdir(folder):\n",
    "    if os.path.isdir(os.path.join(folder, serie)):\n",
    "        thermal_img = [img for img in os.listdir(os.path.join(folder, serie, 'Thermique'))] \n",
    "        depth_img = [img for img in os.listdir(os.path.join(folder, serie, 'Profondeur'))]\n",
    "    missing_images = [img for img in thermal_img if img.replace('thermal', 'depth') not in depth_img]\n",
    "    if len(missing_images)>0:\n",
    "        print('\\n'.join(missing_images))"
   ]
  },
  {
   "cell_type": "markdown",
   "metadata": {},
   "source": [
    "### Correction\n",
    "**Manually add missing depth images in 'Profondeur' folder**"
   ]
  },
  {
   "cell_type": "markdown",
   "metadata": {},
   "source": [
    "## Check if useless depth images"
   ]
  },
  {
   "cell_type": "code",
   "execution_count": 27,
   "metadata": {},
   "outputs": [],
   "source": [
    "for serie in os.listdir(folder):\n",
    "    if os.path.isdir(os.path.join(folder, serie)):\n",
    "        thermal_img = [img for img in os.listdir(os.path.join(folder, serie, 'Thermique'))] \n",
    "        depth_img = [img for img in os.listdir(os.path.join(folder, serie, 'Profondeur'))]\n",
    "    useless_depth = [img for img in depth_img if img.replace('depth', 'thermal') not in thermal_img]\n",
    "    if len(useless_depth)>0:\n",
    "        print(serie)\n",
    "        print('\\n'.join(useless_depth))"
   ]
  },
  {
   "cell_type": "markdown",
   "metadata": {},
   "source": [
    "### Correction"
   ]
  },
  {
   "cell_type": "code",
   "execution_count": 28,
   "metadata": {},
   "outputs": [],
   "source": [
    "for serie in os.listdir(folder):\n",
    "    if os.path.isdir(os.path.join(folder, serie)):\n",
    "        thermal_img = [img for img in os.listdir(os.path.join(folder, serie, 'Thermique'))] \n",
    "        depth_img = [img for img in os.listdir(os.path.join(folder, serie, 'Profondeur'))]\n",
    "    useless_depth = [img for img in depth_img if img.replace('depth', 'thermal') not in thermal_img]\n",
    "    for d in useless_depth:\n",
    "        os.remove(os.path.join(folder, serie, 'Profondeur', d))"
   ]
  },
  {
   "cell_type": "code",
   "execution_count": null,
   "metadata": {},
   "outputs": [],
   "source": []
  }
 ],
 "metadata": {
  "kernelspec": {
   "display_name": "Python 3",
   "language": "python",
   "name": "python3"
  },
  "language_info": {
   "codemirror_mode": {
    "name": "ipython",
    "version": 3
   },
   "file_extension": ".py",
   "mimetype": "text/x-python",
   "name": "python",
   "nbconvert_exporter": "python",
   "pygments_lexer": "ipython3",
   "version": "3.8.1"
  }
 },
 "nbformat": 4,
 "nbformat_minor": 4
}
