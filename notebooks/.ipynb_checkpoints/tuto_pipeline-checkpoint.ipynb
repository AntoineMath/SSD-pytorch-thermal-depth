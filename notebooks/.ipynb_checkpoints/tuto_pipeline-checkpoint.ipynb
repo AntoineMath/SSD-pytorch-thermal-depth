{
 "cells": [
  {
   "cell_type": "markdown",
   "metadata": {},
   "source": [
    "# La pipeline : du Dataloader a l'entree du reseau"
   ]
  },
  {
   "cell_type": "code",
   "execution_count": 2,
   "metadata": {},
   "outputs": [
    {
     "ename": "ModuleNotFoundError",
     "evalue": "No module named 'torch'",
     "output_type": "error",
     "traceback": [
      "\u001b[0;31m---------------------------------------------------------------------------\u001b[0m",
      "\u001b[0;31mModuleNotFoundError\u001b[0m                       Traceback (most recent call last)",
      "\u001b[0;32m<ipython-input-2-3c3536ed96ae>\u001b[0m in \u001b[0;36m<module>\u001b[0;34m\u001b[0m\n\u001b[1;32m      1\u001b[0m \u001b[0;32mimport\u001b[0m \u001b[0mnumpy\u001b[0m \u001b[0;32mas\u001b[0m \u001b[0mnp\u001b[0m\u001b[0;34m\u001b[0m\u001b[0;34m\u001b[0m\u001b[0m\n\u001b[1;32m      2\u001b[0m \u001b[0;32mimport\u001b[0m \u001b[0mskimage\u001b[0m\u001b[0;34m\u001b[0m\u001b[0;34m\u001b[0m\u001b[0m\n\u001b[0;32m----> 3\u001b[0;31m \u001b[0;32mimport\u001b[0m \u001b[0mtorch\u001b[0m\u001b[0;34m\u001b[0m\u001b[0;34m\u001b[0m\u001b[0m\n\u001b[0m\u001b[1;32m      4\u001b[0m \u001b[0;32mfrom\u001b[0m \u001b[0mPIL\u001b[0m \u001b[0;32mimport\u001b[0m \u001b[0mImage\u001b[0m\u001b[0;34m\u001b[0m\u001b[0;34m\u001b[0m\u001b[0m\n\u001b[1;32m      5\u001b[0m \u001b[0;32mfrom\u001b[0m \u001b[0mimgaug\u001b[0m \u001b[0;32mimport\u001b[0m \u001b[0maugmenters\u001b[0m \u001b[0;32mas\u001b[0m \u001b[0miaa\u001b[0m\u001b[0;34m\u001b[0m\u001b[0;34m\u001b[0m\u001b[0m\n",
      "\u001b[0;31mModuleNotFoundError\u001b[0m: No module named 'torch'"
     ]
    }
   ],
   "source": [
    "import numpy as np\n",
    "import skimage\n",
    "import torch\n",
    "from PIL import Image\n",
    "from imgaug import augmenters as iaa\n",
    "from imgaug.augmentables.bbs import BoundingBox, BoundingBoxesOnImage\n",
    "import matplotlib.pyplot as plt\n",
    "import matplotlib.patches as patches"
   ]
  },
  {
   "cell_type": "markdown",
   "metadata": {},
   "source": [
    "## Data Loader\n",
    "Le `Data Loader` est une classe de pytorch qui permet de charger les images du `Dataset` en retournant a chaque step un batch de (images, boxes, labels, difficulties).\n",
    "\n",
    "Le `Dataset` lit les fichiers `.json`.\n",
    "\n",
    "Ici, on se place dans le cas d'un batch d'une seule image (on n'a pas besoin du label ni de la difficulty)."
   ]
  },
  {
   "cell_type": "code",
   "execution_count": null,
   "metadata": {},
   "outputs": [],
   "source": [
    "# Epoch p, step n : donnees retournees par le dataloader dans train.py\n",
    "img_path = '../img/fall_bedroom.png'\n",
    "\n",
    "image = Image.open(img_path, mode='r')\n",
    "bbox = torch.Tensor([[43, 32, 71, 59]])\n",
    "image.size, bbox"
   ]
  },
  {
   "cell_type": "code",
   "execution_count": null,
   "metadata": {},
   "outputs": [],
   "source": [
    "# TODO : visualisation"
   ]
  },
  {
   "cell_type": "markdown",
   "metadata": {},
   "source": [
    "# Preprocessing\n",
    "Le preprocessing a lieu lorsque le `Dataloader` appel un batch d'image en utilisant la fonction `__getitem__()` du `Dataset`. \n",
    "\n",
    "**Chaque image est passée a travers la fonction `thermal_image_preprocessing()` dans `utils.py`**."
   ]
  },
  {
   "cell_type": "markdown",
   "metadata": {},
   "source": [
    "### Standardization\n",
    "**On soustrait la moyenne et on divise par l'ecart type**. La moyenne et l'ecart type sont calcules sur tout le training set automatiquement grace a la fonction `dataset_mean_std()` de la classe Dataset.\n",
    "\n",
    "Pour cet exemple, on utilise la moyenne et l'ecart type de notre unique image."
   ]
  },
  {
   "cell_type": "code",
   "execution_count": 3,
   "metadata": {},
   "outputs": [
    {
     "ename": "NameError",
     "evalue": "name 'image' is not defined",
     "output_type": "error",
     "traceback": [
      "\u001b[0;31m---------------------------------------------------------------------------\u001b[0m",
      "\u001b[0;31mNameError\u001b[0m                                 Traceback (most recent call last)",
      "\u001b[0;32m<ipython-input-3-c6a57a5bb510>\u001b[0m in \u001b[0;36m<module>\u001b[0;34m\u001b[0m\n\u001b[1;32m      1\u001b[0m \u001b[0;31m# PIL image to numpy array\u001b[0m\u001b[0;34m\u001b[0m\u001b[0;34m\u001b[0m\u001b[0;34m\u001b[0m\u001b[0m\n\u001b[0;32m----> 2\u001b[0;31m \u001b[0mimage\u001b[0m \u001b[0;34m=\u001b[0m \u001b[0mnp\u001b[0m\u001b[0;34m.\u001b[0m\u001b[0marray\u001b[0m\u001b[0;34m(\u001b[0m\u001b[0mimage\u001b[0m\u001b[0;34m)\u001b[0m\u001b[0;34m\u001b[0m\u001b[0;34m\u001b[0m\u001b[0m\n\u001b[0m\u001b[1;32m      3\u001b[0m \u001b[0mimage\u001b[0m \u001b[0;34m=\u001b[0m \u001b[0mnp\u001b[0m\u001b[0;34m.\u001b[0m\u001b[0mexpand_dims\u001b[0m\u001b[0;34m(\u001b[0m\u001b[0mimage\u001b[0m\u001b[0;34m,\u001b[0m \u001b[0maxis\u001b[0m\u001b[0;34m=\u001b[0m\u001b[0;34m-\u001b[0m\u001b[0;36m1\u001b[0m\u001b[0;34m)\u001b[0m\u001b[0;34m\u001b[0m\u001b[0;34m\u001b[0m\u001b[0m\n\u001b[1;32m      4\u001b[0m \u001b[0;34m\u001b[0m\u001b[0m\n\u001b[1;32m      5\u001b[0m \u001b[0mmean\u001b[0m\u001b[0;34m,\u001b[0m \u001b[0mstd\u001b[0m \u001b[0;34m=\u001b[0m \u001b[0mimage\u001b[0m\u001b[0;34m.\u001b[0m\u001b[0mmean\u001b[0m\u001b[0;34m(\u001b[0m\u001b[0;34m)\u001b[0m\u001b[0;34m,\u001b[0m \u001b[0mimage\u001b[0m\u001b[0;34m.\u001b[0m\u001b[0mstd\u001b[0m\u001b[0;34m(\u001b[0m\u001b[0;34m)\u001b[0m\u001b[0;34m\u001b[0m\u001b[0;34m\u001b[0m\u001b[0m\n",
      "\u001b[0;31mNameError\u001b[0m: name 'image' is not defined"
     ]
    }
   ],
   "source": [
    "# PIL image to numpy array\n",
    "image = np.array(image)\n",
    "image = np.expand_dims(image, axis=-1)\n",
    "\n",
    "mean, std = image.mean(), image.std()\n",
    "image.shape, mean, std, image.min(), image.max()"
   ]
  },
  {
   "cell_type": "code",
   "execution_count": 4,
   "metadata": {},
   "outputs": [
    {
     "ename": "NameError",
     "evalue": "name 'image' is not defined",
     "output_type": "error",
     "traceback": [
      "\u001b[0;31m---------------------------------------------------------------------------\u001b[0m",
      "\u001b[0;31mNameError\u001b[0m                                 Traceback (most recent call last)",
      "\u001b[0;32m<ipython-input-4-fe0ed005d0b7>\u001b[0m in \u001b[0;36m<module>\u001b[0;34m\u001b[0m\n\u001b[0;32m----> 1\u001b[0;31m \u001b[0mimage\u001b[0m \u001b[0;34m=\u001b[0m \u001b[0;34m(\u001b[0m\u001b[0mimage\u001b[0m \u001b[0;34m-\u001b[0m \u001b[0mmean\u001b[0m\u001b[0;34m)\u001b[0m \u001b[0;34m/\u001b[0m \u001b[0mstd\u001b[0m\u001b[0;34m\u001b[0m\u001b[0;34m\u001b[0m\u001b[0m\n\u001b[0m\u001b[1;32m      2\u001b[0m \u001b[0mimage\u001b[0m \u001b[0;34m=\u001b[0m \u001b[0mimage\u001b[0m\u001b[0;34m.\u001b[0m\u001b[0mastype\u001b[0m\u001b[0;34m(\u001b[0m\u001b[0;34m'float32'\u001b[0m\u001b[0;34m)\u001b[0m\u001b[0;34m\u001b[0m\u001b[0;34m\u001b[0m\u001b[0m\n\u001b[1;32m      3\u001b[0m \u001b[0mimage\u001b[0m\u001b[0;34m.\u001b[0m\u001b[0mmean\u001b[0m\u001b[0;34m(\u001b[0m\u001b[0;34m)\u001b[0m\u001b[0;34m,\u001b[0m \u001b[0mimage\u001b[0m\u001b[0;34m.\u001b[0m\u001b[0mstd\u001b[0m\u001b[0;34m(\u001b[0m\u001b[0;34m)\u001b[0m\u001b[0;34m,\u001b[0m \u001b[0mimage\u001b[0m\u001b[0;34m.\u001b[0m\u001b[0mmin\u001b[0m\u001b[0;34m(\u001b[0m\u001b[0;34m)\u001b[0m\u001b[0;34m,\u001b[0m \u001b[0mimage\u001b[0m\u001b[0;34m.\u001b[0m\u001b[0mmax\u001b[0m\u001b[0;34m(\u001b[0m\u001b[0;34m)\u001b[0m\u001b[0;34m\u001b[0m\u001b[0;34m\u001b[0m\u001b[0m\n",
      "\u001b[0;31mNameError\u001b[0m: name 'image' is not defined"
     ]
    }
   ],
   "source": [
    "image = (image - mean) / std\n",
    "image = image.astype('float32')\n",
    "image.mean(), image.std(), image.min(), image.max()"
   ]
  },
  {
   "cell_type": "markdown",
   "metadata": {},
   "source": [
    "### Augmentation\n",
    "L'image et la bbox associee sont passees dans la fonction `data_augmentation()` dans `utils.py`.\n",
    "\n",
    "J'utilise la librairie [imgaug](https://imgaug.readthedocs.io/en/latest/)."
   ]
  },
  {
   "cell_type": "code",
   "execution_count": 115,
   "metadata": {},
   "outputs": [
    {
     "data": {
      "text/plain": [
       "BoundingBoxesOnImage([BoundingBox(x1=43.0000, y1=32.0000, x2=71.0000, y2=59.0000, label=None)], shape=(60, 80, 1))"
      ]
     },
     "execution_count": 115,
     "metadata": {},
     "output_type": "execute_result"
    }
   ],
   "source": [
    "# Creation de l'objet BoundingBoxesOnImage qui constitue la liste des bounding boxes de l'image\n",
    "list_box = []\n",
    "\n",
    "for box in bbox.tolist():\n",
    "    list_box.append(BoundingBox(*box))\n",
    "    \n",
    "bbs = BoundingBoxesOnImage(list_box, shape=image.shape)\n",
    "bbs"
   ]
  },
  {
   "cell_type": "code",
   "execution_count": 116,
   "metadata": {},
   "outputs": [],
   "source": [
    "# On definie la liste des transformations a faire\n",
    "augmenters = [iaa.SomeOf((1, 3),\n",
    "                 [iaa.Crop(percent=(0.1, 0.2)),\n",
    "                  iaa.OneOf([iaa.Dropout(p=(0.01, 0.2)),\n",
    "                             iaa.CoarseDropout((0.03, 0.15), size_percent=(0.02, 0.05))]),\n",
    "                  iaa.Fliplr(1.0)],random_order=True)]"
   ]
  },
  {
   "cell_type": "code",
   "execution_count": 118,
   "metadata": {},
   "outputs": [],
   "source": [
    "def transformation(image, bbs):\n",
    "    # On fixe une limite de 50 essais pour faire la transformation\n",
    "    #(si une boxe se retrouve en dehors de l'image par exemple)\n",
    "    for i in range(50):\n",
    "            seq = iaa.Sometimes(0.8, augmenters)\n",
    "            image_aug, bbs_aug = seq(image=image, bounding_boxes=bbs)\n",
    "\n",
    "            wrong_boxes = 0\n",
    "            for bb in bbs_aug.bounding_boxes:\n",
    "                bb_cliped_area = bb.clip_out_of_image(image_aug).area\n",
    "                bb_area = bb.area\n",
    "                # Si on crop plus de 20% d'une bbox lors du clip_out_of_image(), on recommence.\n",
    "                if bb_cliped_area / bb_area < 0.8:\n",
    "                    wrong_boxes += 1\n",
    "            # Si toutes les bbox de l'images sont a l'interieur de l'image, on garde cet essai\n",
    "            if wrong_boxes == 0:\n",
    "                bbs_aug = bbs_aug.clip_out_of_image()\n",
    "                break\n",
    "    return image_aug, bbs_aug"
   ]
  },
  {
   "cell_type": "code",
   "execution_count": 1,
   "metadata": {},
   "outputs": [
    {
     "ename": "NameError",
     "evalue": "name 'transformation' is not defined",
     "output_type": "error",
     "traceback": [
      "\u001b[0;31m---------------------------------------------------------------------------\u001b[0m",
      "\u001b[0;31mNameError\u001b[0m                                 Traceback (most recent call last)",
      "\u001b[0;32m<ipython-input-1-2d04d97514b1>\u001b[0m in \u001b[0;36m<module>\u001b[0;34m\u001b[0m\n\u001b[1;32m      1\u001b[0m \u001b[0;31m# Simulation de 10 steps : a chacune d'elles, l'image est transformee aleatoirement (ou pas).\u001b[0m\u001b[0;34m\u001b[0m\u001b[0;34m\u001b[0m\u001b[0;34m\u001b[0m\u001b[0m\n\u001b[1;32m      2\u001b[0m \u001b[0;32mfor\u001b[0m \u001b[0mi\u001b[0m \u001b[0;32min\u001b[0m \u001b[0mrange\u001b[0m\u001b[0;34m(\u001b[0m\u001b[0;36m10\u001b[0m\u001b[0;34m)\u001b[0m\u001b[0;34m:\u001b[0m\u001b[0;34m\u001b[0m\u001b[0;34m\u001b[0m\u001b[0m\n\u001b[0;32m----> 3\u001b[0;31m     \u001b[0mimage_aug\u001b[0m\u001b[0;34m,\u001b[0m \u001b[0mbbs_aug\u001b[0m \u001b[0;34m=\u001b[0m \u001b[0mtransformation\u001b[0m\u001b[0;34m(\u001b[0m\u001b[0mimage\u001b[0m\u001b[0;34m,\u001b[0m \u001b[0mbbs\u001b[0m\u001b[0;34m)\u001b[0m\u001b[0;34m\u001b[0m\u001b[0;34m\u001b[0m\u001b[0m\n\u001b[0m\u001b[1;32m      4\u001b[0m \u001b[0;34m\u001b[0m\u001b[0m\n\u001b[1;32m      5\u001b[0m     \u001b[0;31m# Visualisation\u001b[0m\u001b[0;34m\u001b[0m\u001b[0;34m\u001b[0m\u001b[0;34m\u001b[0m\u001b[0m\n",
      "\u001b[0;31mNameError\u001b[0m: name 'transformation' is not defined"
     ]
    }
   ],
   "source": [
    "# Simulation de 10 steps : a chacune d'elles, l'image est transformee aleatoirement (ou pas). \n",
    "for i in range(10):\n",
    "    image_aug, bbs_aug = transformation(image, bbs)\n",
    "    \n",
    "    # Visualisation\n",
    "    rects = []\n",
    "    rects_aug = []\n",
    "    \n",
    "    #Creation de la bounding box de depart\n",
    "    box_display = bbox.tolist()\n",
    "    for bb in box_resized:\n",
    "        rects.append(patches.Rectangle((bb[0], bb[1]), bb[2], bb[3]))\n",
    "    \n",
    "    pc = PatchCollection(rects, facecolor='none', alpha=0.8,\n",
    "                             edgecolor='r', linewidth=2)\n",
    "    \n",
    "    # Creation de la bounding box augmentee\n",
    "    display_img_aug = image_aug.numpy().squeeze()\n",
    "    box_aug_display = bbs_aug.tolist()\n",
    "    for bb in new_bb:\n",
    "        rects_aug.append(patches.Rectangle((bb[0], bb[1]), bb[2], bb[3]))\n",
    "    \n",
    "    \n",
    "    pc_aug = PatchCollection(rects_aug, facecolor='none', alpha=0.8,\n",
    "                             edgecolor='r', linewidth=2)\n",
    "    \n",
    "    # Display \n",
    "    # Display\n",
    "    fig, (ax1, ax2) = plt.subplots(1, 2)\n",
    "    ax1.add_collection(pc)\n",
    "    ax1.imshow(image)  \n",
    "    ax2.add_collection(pc_aug)\n",
    "    ax2.imshow(display_img_aug)\n",
    "    plt.show()\n",
    "    \n",
    "image_aug.shape"
   ]
  },
  {
   "cell_type": "code",
   "execution_count": 105,
   "metadata": {},
   "outputs": [
    {
     "data": {
      "text/plain": [
       "tensor([[43., 32., 71., 59.]])"
      ]
     },
     "execution_count": 105,
     "metadata": {},
     "output_type": "execute_result"
    }
   ],
   "source": [
    "# Pour recuperer la/les bounding box(es) transforme(es) sour la forme d'un tensor:\n",
    "boxes = []\n",
    "for nb in bbs_aug.bounding_boxes:\n",
    "            boxes.append([nb.x1, nb.y1, nb.x2, nb.y2])\n",
    "bbox = torch.FloatTensor(boxes)\n",
    "bbox"
   ]
  },
  {
   "cell_type": "markdown",
   "metadata": {},
   "source": [
    "### Resizing\n",
    "On utilise le SSD300 donc son architecture est adaptee a des images `300x300`."
   ]
  },
  {
   "cell_type": "code",
   "execution_count": 106,
   "metadata": {},
   "outputs": [
    {
     "data": {
      "text/plain": [
       "(300, 300, 1)"
      ]
     },
     "execution_count": 106,
     "metadata": {},
     "output_type": "execute_result"
    }
   ],
   "source": [
    "image = skimage.transform.resize(image_aug, (300, 300))\n",
    "image.shape"
   ]
  },
  {
   "cell_type": "code",
   "execution_count": 107,
   "metadata": {},
   "outputs": [
    {
     "data": {
      "text/plain": [
       "(torch.Size([1, 300, 300]), tensor([[43., 32., 71., 59.]]))"
      ]
     },
     "execution_count": 107,
     "metadata": {},
     "output_type": "execute_result"
    }
   ],
   "source": [
    "# Format de base de pytorch : (Taille_batch, Channels, Widht, Height)\n",
    "image = np.moveaxis(image, -1, 0)\n",
    "image = torch.FloatTensor(image)\n",
    "image.shape, bbox"
   ]
  },
  {
   "cell_type": "markdown",
   "metadata": {},
   "source": [
    "## Fin du preprocessing\n",
    "Les images et les bounding boxes vont etre concatenees dans un batch et celui-ci sera passe a travers le `model()`.\n",
    "\n",
    "L'architecture du model se trouve dans `model.py`."
   ]
  },
  {
   "cell_type": "code",
   "execution_count": 4,
   "metadata": {},
   "outputs": [
    {
     "name": "stdout",
     "output_type": "stream",
     "text": [
      "image (numpy_array): (60, 80, 1)\n",
      "dtype: int32\n",
      "max:  30311\n",
      "min: 28731\n",
      "mean: 29148.332291666666\n",
      "std: 196.83739005563686\n",
      "\n",
      "image_standardized: (numpy_array) (60, 80, 1)\n",
      "dtype: float32\n",
      "max:  5.671179\n",
      "min: -2.2637827\n",
      "mean: -0.16788676\n",
      "std: 0.98854244\n"
     ]
    },
    {
     "data": {
      "image/png": "[encoded data removed]",
      "text/plain": [
       "<Figure size 576x288 with 1 Axes>"
      ]
     },
     "metadata": {
      "needs_background": "light"
     },
     "output_type": "display_data"
    },
    {
     "name": "stdout",
     "output_type": "stream",
     "text": [
      "boxe: tensor([ 7., 25., 32., 60.])\n"
     ]
    }
   ],
   "source": [
    "\n",
    "dataset_mean = 29181.7617\n",
    "dataset_std = 199.1188\n",
    "\n",
    "image_array = np.expand_dims(np.array(image), axis=-1)\n",
    "\n",
    "print('image (numpy_array):', image_array.shape)\n",
    "print('dtype:', image_array.dtype)\n",
    "print('max: ', np.amax(image_array))\n",
    "print('min:', np.amin(image_array))\n",
    "print('mean:', np.mean(image_array))\n",
    "print('std:', np.std(image_array))\n",
    "\n",
    "image_standardized = (image_array - dataset_mean) / dataset_std\n",
    "image_standardized = image_standardized.astype('float32')\n",
    "\n",
    "print('\\nimage_standardized: (numpy_array)', image_standardized.shape)\n",
    "print('dtype:', image_standardized.dtype)\n",
    "print('max: ', np.amax(image_standardized))\n",
    "print('min:', np.amin(image_standardized))\n",
    "print('mean:', np.mean(image_standardized))\n",
    "print('std:', np.std(image_standardized))\n",
    "\n",
    "# Show image\n",
    "rect = patches.Rectangle((box[0], box[1]), box[2], box[3],linewidth=2,edgecolor='r',facecolor='none')\n",
    "fig, ax = plt.subplots(ncols=1, figsize=(8,4))\n",
    "ax.axis('off')\n",
    "ax.add_patch(rect)\n",
    "ax.imshow(np.array(image_standardized.squeeze()), cmap='gray')\n",
    "plt.show()\n",
    "\n",
    "print('boxe:', box)"
   ]
  },
  {
   "cell_type": "markdown",
   "metadata": {},
   "source": [
    "## Image and bbox Augmentation"
   ]
  },
  {
   "cell_type": "code",
   "execution_count": 5,
   "metadata": {},
   "outputs": [
    {
     "name": "stdout",
     "output_type": "stream",
     "text": [
      "\n",
      "image_augmented: (numpy_array) (60, 80, 1)\n",
      "dtype: float32\n",
      "max:  5.6166706\n",
      "min: -1.9786788\n",
      "mean: -0.10368599\n",
      "std: 0.8756702\n",
      "\n",
      "new_box: tensor([46.7152, 17.3065, 79.1927, 57.1743])\n"
     ]
    },
    {
     "data": {
      "image/png": "[encoded data removed]",
      "text/plain": [
       "<Figure size 576x288 with 1 Axes>"
      ]
     },
     "metadata": {
      "needs_background": "light"
     },
     "output_type": "display_data"
    }
   ],
   "source": [
    "augmenters = [iaa.SomeOf((1, 3),\n",
    "             [iaa.Crop(percent=(0.1, 0.2)),\n",
    "              iaa.Affine(rotate=(-30, 30)),\n",
    "              #iaa.AdditiveGaussianNoise(scale=0.05 * np.max(image[0])),\n",
    "              iaa.OneOf([iaa.Dropout(p=(0.01, 0.2)),\n",
    "                         iaa.CoarseDropout((0.03, 0.15), size_percent=(0.02, 0.05))]),\n",
    "              iaa.Fliplr(1.0)],\n",
    "              random_order=True)\n",
    "             ]\n",
    "\n",
    "# 50 tries to perform augmentation (to prevent boxes being out of the image)\n",
    "for i in range(50):\n",
    "    seq = iaa.Sometimes(0.8, augmenters)\n",
    "    image_augmented, bbs_aug = seq(image=image_standardized, bounding_boxes=BoundingBox(*box))\n",
    "    bbs_clipped = bbs_aug.clip_out_of_image(image_augmented)\n",
    "    \n",
    "    # Si on crop plus de 20% d'une bbox lors du clip_out_of_image(), on recommence.\n",
    "    if bbs_clipped.area / bbs_aug.area > 0.8:\n",
    "        break\n",
    "new_bbox = torch.FloatTensor((bbs_clipped.x1, bbs_clipped.y1, bbs_clipped.x2, bbs_clipped.y2))\n",
    "\n",
    "\n",
    "# show augmented image\n",
    "rect_aug = patches.Rectangle((new_bbox[0], new_bbox[1]), new_bbox[2], new_bbox[3],linewidth=2,edgecolor='r',facecolor='none')\n",
    "\n",
    "fig, ax = plt.subplots(ncols=1, figsize=(8,4))\n",
    "ax.axis('off')\n",
    "ax.add_patch(rect_aug)\n",
    "ax.imshow(np.array(image_augmented.squeeze()), cmap='gray')\n",
    "\n",
    "print('\\nimage_augmented: (numpy_array)', image_augmented.shape)\n",
    "print('dtype:', image_augmented.dtype)\n",
    "print('max: ', np.amax(image_augmented))\n",
    "print('min:', np.amin(image_augmented))\n",
    "print('mean:', np.mean(image_augmented))\n",
    "print('std:', np.std(image_augmented))\n",
    "print('\\nnew_box:', new_bbox)"
   ]
  },
  {
   "cell_type": "code",
   "execution_count": 6,
   "metadata": {},
   "outputs": [
    {
     "name": "stdout",
     "output_type": "stream",
     "text": [
      "standardized_bbox: [0.5839396  0.28844225 0.9899082  0.9529046 ]\n"
     ]
    }
   ],
   "source": [
    "# bbox standardization (% coordinates) (not in the pipeline but needed to print bbox after resizing the image)\n",
    "old_dims = torch.FloatTensor([image_augmented.shape[1], image_augmented.shape[0], image_augmented.shape[1], image_augmented.shape[0]]).unsqueeze(0)\n",
    "new_bbox = new_bbox / old_dims  # percent coordinates\n",
    "new_bbox = np.array(new_bbox).squeeze()\n",
    "print('standardized_bbox:', new_bbox)"
   ]
  },
  {
   "cell_type": "markdown",
   "metadata": {},
   "source": [
    "## Resize to match the 300x300 input"
   ]
  },
  {
   "cell_type": "code",
   "execution_count": 12,
   "metadata": {},
   "outputs": [
    {
     "name": "stdout",
     "output_type": "stream",
     "text": [
      "\n",
      "image_resized: (numpy_array) (300, 300, 1)\n",
      "dtype: float64\n",
      "max:  5.614438152313232\n",
      "min: -1.97067677577337\n",
      "mean: -0.10400906111878438\n",
      "std: 0.8528365470893492\n"
     ]
    },
    {
     "data": {
      "text/plain": [
       "<matplotlib.image.AxesImage at 0x7f5a7423c0d0>"
      ]
     },
     "execution_count": 12,
     "metadata": {},
     "output_type": "execute_result"
    },
    {
     "data": {
      "image/png": "[encoded data removed]",
      "text/plain": [
       "<Figure size 576x288 with 1 Axes>"
      ]
     },
     "metadata": {
      "needs_background": "light"
     },
     "output_type": "display_data"
    }
   ],
   "source": [
    "image_resized = skimage.transform.resize(image_augmented, (300, 300))\n",
    "print('\\nimage_resized: (numpy_array)', image_resized.shape)\n",
    "print('dtype:', image_resized.dtype)\n",
    "print('max: ', np.amax(image_resized))\n",
    "print('min:', np.amin(image_resized))\n",
    "print('mean:', np.mean(image_resized))\n",
    "print('std:', np.std(image_resized))\n",
    "\n",
    "# show image\n",
    "rect_resized = patches.Rectangle((new_bbox[0]*300, new_bbox[1]*300), new_bbox[2]*300, new_bbox[3]*300,linewidth=2,edgecolor='r',facecolor='none')\n",
    "fig, ax = plt.subplots(ncols=1, figsize=(8,4))\n",
    "ax.axis('off')\n",
    "ax.add_patch(rect_resized)\n",
    "ax.imshow(np.array(image_resized.squeeze()), cmap='gray')"
   ]
  },
  {
   "cell_type": "code",
   "execution_count": 16,
   "metadata": {},
   "outputs": [
    {
     "name": "stdout",
     "output_type": "stream",
     "text": [
      "\n",
      "final_image: (Torch tensor) torch.Size([1, 300, 300])\n",
      "dtype: torch.float32\n",
      "max:  tensor(5.6144)\n",
      "min: tensor(-1.9707)\n",
      "mean: tensor(-0.1040)\n",
      "std: tensor(0.8528)\n"
     ]
    }
   ],
   "source": [
    "# Convert to tensor\n",
    "final_image = np.moveaxis(image_resized, -1, 0)\n",
    "final_image = torch.FloatTensor(final_image)\n",
    "final_image = final_image.type('torch.FloatTensor')\n",
    "\n",
    "print('\\nfinal_image: (Torch tensor)', final_image.shape)\n",
    "print('dtype:', final_image.dtype)\n",
    "print('max: ', final_image.max())\n",
    "print('min:', final_image.min())\n",
    "print('mean:', final_image.mean())\n",
    "print('std:', final_image.std())\n",
    "\n",
    "# Then images are grouped by batches and passed threw the network"
   ]
  },
  {
   "cell_type": "code",
   "execution_count": null,
   "metadata": {},
   "outputs": [],
   "source": []
  }
 ],
 "metadata": {
  "kernelspec": {
   "display_name": "Python 3",
   "language": "python",
   "name": "python3"
  },
  "language_info": {
   "codemirror_mode": {
    "name": "ipython",
    "version": 3
   },
   "file_extension": ".py",
   "mimetype": "text/x-python",
   "name": "python",
   "nbconvert_exporter": "python",
   "pygments_lexer": "ipython3",
   "version": "3.7.4"
  }
 },
 "nbformat": 4,
 "nbformat_minor": 2
}
