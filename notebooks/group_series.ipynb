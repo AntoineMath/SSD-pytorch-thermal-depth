{
 "cells": [
  {
   "cell_type": "markdown",
   "metadata": {},
   "source": [
    "# Group multiple series into a single folder"
   ]
  },
  {
   "cell_type": "code",
   "execution_count": 21,
   "metadata": {},
   "outputs": [],
   "source": [
    "import os\n",
    "from shutil import copyfile"
   ]
  },
  {
   "cell_type": "code",
   "execution_count": 26,
   "metadata": {},
   "outputs": [
    {
     "data": {
      "text/plain": [
       "['dataset_GLADIS4_2015_11_03',\n",
       " 'dataset_GLADIS4_2015_10_27',\n",
       " 'dataset_GLADIS4_2015_10_12',\n",
       " 'dataset_GLADIS4_2015_10_24',\n",
       " 'dataset_GLADIS4_2015_10_18',\n",
       " 'dataset_GLADIS4_2015_10_21',\n",
       " 'dataset_GLADIS4_2015_10_17',\n",
       " 'dataset_GLADIS4_2015_10_29',\n",
       " 'dataset_GLADIS4_2015_10_19',\n",
       " 'dataset_GLADIS4_2015_10_15',\n",
       " 'dataset_GLADIS4_2015_10_20',\n",
       " 'dataset_GLADIS4_2015_10_26',\n",
       " 'dataset_GLADIS4_2015_11_02',\n",
       " 'dataset_GLADIS4_2015_10_25',\n",
       " 'dataset_GLADIS4_2015_10_11',\n",
       " 'dataset_GLADIS4_2015_10_13',\n",
       " 'dataset_GLADIS4_2015_10_30',\n",
       " 'dataset_GLADIS4_2015_10_23',\n",
       " 'dataset_GLADIS4_2015_10_16',\n",
       " 'dataset_GLADIS4_2015_10_22',\n",
       " 'dataset_GLADIS4_2015_11_01',\n",
       " 'dataset_GLADIS4_2015_10_28',\n",
       " 'dataset_GLADIS4_2015_10_14']"
      ]
     },
     "execution_count": 26,
     "metadata": {},
     "output_type": "execute_result"
    }
   ],
   "source": [
    "folder = '/home/mathurin/prudence/datasets/dataset_mix'\n",
    "series = [serie for serie in os.listdir(folder) if \"dataset_GLADIS4\" in serie]\n",
    "series"
   ]
  },
  {
   "cell_type": "code",
   "execution_count": 27,
   "metadata": {},
   "outputs": [],
   "source": [
    "for serie in series:\n",
    "    annotation_path = os.path.join(folder, serie, 'Annotations')\n",
    "    thermique_path = os.path.join(folder, serie, 'Thermique')\n",
    "    profondeur_path = os.path.join(folder, serie, 'Profondeur')\n",
    "    \n",
    "    \n",
    "    for a in os.listdir(annotation_path):\n",
    "        copyfile(os.path.join(annotation_path, a), os.path.join(folder, 'GLADIS4_grouped', 'Annotations', a ))\n",
    "    for t in os.listdir(thermique_path):\n",
    "        copyfile(os.path.join(thermique_path, t), os.path.join(folder, 'GLADIS4_grouped', 'Thermique', t ))\n",
    "    for p in os.listdir(profondeur_path):\n",
    "        copyfile(os.path.join(profondeur_path, p), os.path.join(folder, 'GLADIS4_grouped', 'Profondeur', p))"
   ]
  },
  {
   "cell_type": "code",
   "execution_count": null,
   "metadata": {},
   "outputs": [],
   "source": []
  }
 ],
 "metadata": {
  "kernelspec": {
   "display_name": "Python 3",
   "language": "python",
   "name": "python3"
  },
  "language_info": {
   "codemirror_mode": {
    "name": "ipython",
    "version": 3
   },
   "file_extension": ".py",
   "mimetype": "text/x-python",
   "name": "python",
   "nbconvert_exporter": "python",
   "pygments_lexer": "ipython3",
   "version": "3.7.5"
  }
 },
 "nbformat": 4,
 "nbformat_minor": 2
}
