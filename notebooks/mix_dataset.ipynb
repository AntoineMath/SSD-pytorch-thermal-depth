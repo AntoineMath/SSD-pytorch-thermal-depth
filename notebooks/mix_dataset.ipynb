{
 "cells": [
  {
   "cell_type": "code",
   "execution_count": 7,
   "metadata": {},
   "outputs": [],
   "source": [
    "import os\n",
    "from pathlib import Path\n",
    "from shutil import copyfile\n"
   ]
  },
  {
   "cell_type": "code",
   "execution_count": 5,
   "metadata": {},
   "outputs": [
    {
     "data": {
      "text/plain": [
       "['/home/mathurin/prudence/datasets/Troyes_2',\n",
       " '/home/mathurin/prudence/datasets/data_no_fusion',\n",
       " '/home/mathurin/prudence/datasets/EPHAD/Ch.108/dataset_GLADIS4',\n",
       " '/home/mathurin/prudence/datasets/EPHAD/Ch.108/dataset_GLADIS5',\n",
       " '/home/mathurin/prudence/datasets/EPHAD/Ch.129/dataset_GLADIS6']"
      ]
     },
     "execution_count": 5,
     "metadata": {},
     "output_type": "execute_result"
    }
   ],
   "source": [
    "datasets_path = '/home/mathurin/prudence/datasets/'\n",
    "datasets_name = ['Troyes_2', 'data_no_fusion', 'EPHAD/Ch.108/dataset_GLADIS4', 'EPHAD/Ch.108/dataset_GLADIS5', 'EPHAD/Ch.129/dataset_GLADIS6']\n",
    "datasets = [os.path.join(datasets_path, name) for name in datasets_name]\n",
    "datasets"
   ]
  },
  {
   "cell_type": "code",
   "execution_count": 6,
   "metadata": {},
   "outputs": [],
   "source": [
    "for dataset in datasets:\n",
    "    dataset_name = dataset.split('/')[-1]\n",
    "    for serie in os.listdir(dataset):\n",
    "        couleur_path = os.path.join(dataset, serie,'Couleur')\n",
    "        annotation_path = os.path.join(dataset, serie,'Annotations')\n",
    "        thermique_path = os.path.join(dataset, serie,'Thermique')\n",
    "        profondeur_path = os.path.join(dataset, serie,'Profondeur')\n",
    "        \n",
    "        if os.path.isdir(annotation_path):\n",
    "            c_save_path = os.path.join(datasets_path, 'dataset_mix2', dataset_name + '_' + serie, 'Couleur')\n",
    "            a_save_path = os.path.join(datasets_path, 'dataset_mix2', dataset_name + '_' + serie, 'Annotations')\n",
    "            t_save_path = os.path.join(datasets_path, 'dataset_mix2', dataset_name + '_' + serie, 'Thermique')\n",
    "            p_save_path = os.path.join(datasets_path, 'dataset_mix2', dataset_name + '_' + serie, 'Profondeur')\n",
    "            \n",
    "            Path(a_save_path).mkdir(parents=True, exist_ok=True)\n",
    "            Path(t_save_path).mkdir(parents=True, exist_ok=True)\n",
    "            Path(p_save_path).mkdir(parents=True, exist_ok=True)\n",
    "            if os.path.isdir(couleur_path):\n",
    "                Path(c_save_path).mkdir(parents=True, exist_ok=True)\n",
    "            \n",
    "            for annotation in os.listdir(annotation_path):\n",
    "                couleur = annotation.replace('xml', 'png').replace('thermal', 'RGB')\n",
    "                thermique = annotation.replace('xml', 'png')\n",
    "                profondeur = annotation.replace('xml', 'png').replace('thermal', 'depth')\n",
    "        \n",
    "                copyfile(os.path.join(annotation_path, annotation), os.path.join(a_save_path, annotation))\n",
    "                copyfile(os.path.join(thermique_path, thermique), os.path.join(t_save_path, thermique))\n",
    "                copyfile(os.path.join(profondeur_path, profondeur), os.path.join(p_save_path, profondeur))\n",
    "                if os.path.isdir(couleur_path):\n",
    "                    copyfile(os.path.join(couleur_path, couleur), os.path.join(c_save_path, couleur))"
   ]
  },
  {
   "cell_type": "code",
   "execution_count": null,
   "metadata": {},
   "outputs": [],
   "source": []
  }
 ],
 "metadata": {
  "kernelspec": {
   "display_name": "Python 3",
   "language": "python",
   "name": "python3"
  },
  "language_info": {
   "codemirror_mode": {
    "name": "ipython",
    "version": 3
   },
   "file_extension": ".py",
   "mimetype": "text/x-python",
   "name": "python",
   "nbconvert_exporter": "python",
   "pygments_lexer": "ipython3",
   "version": "3.7.4"
  }
 },
 "nbformat": 4,
 "nbformat_minor": 2
}
